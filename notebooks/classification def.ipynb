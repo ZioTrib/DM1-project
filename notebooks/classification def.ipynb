{
 "cells": [
  {
   "cell_type": "markdown",
   "metadata": {
    "colab_type": "text",
    "id": "UzjdWXUVqJhZ"
   },
   "source": [
    "## Imports"
   ]
  },
  {
   "cell_type": "code",
   "execution_count": 1,
   "metadata": {
    "colab": {
     "base_uri": "https://localhost:8080/",
     "height": 73
    },
    "colab_type": "code",
    "id": "AiSNNg8VqK-i",
    "outputId": "872b9586-0edb-4a48-da5f-5b423d8c006c"
   },
   "outputs": [
    {
     "ename": "ModuleNotFoundError",
     "evalue": "No module named 'mlxtend'",
     "output_type": "error",
     "traceback": [
      "\u001b[0;31m---------------------------------------------------------------------------\u001b[0m",
      "\u001b[0;31mModuleNotFoundError\u001b[0m                       Traceback (most recent call last)",
      "\u001b[0;32m<ipython-input-1-dcb62424a37d>\u001b[0m in \u001b[0;36m<module>\u001b[0;34m\u001b[0m\n\u001b[1;32m     17\u001b[0m \u001b[0;32mfrom\u001b[0m \u001b[0mscipy\u001b[0m\u001b[0;34m.\u001b[0m\u001b[0mstats\u001b[0m \u001b[0;32mimport\u001b[0m \u001b[0mmode\u001b[0m\u001b[0;34m\u001b[0m\u001b[0;34m\u001b[0m\u001b[0m\n\u001b[1;32m     18\u001b[0m \u001b[0;32mfrom\u001b[0m \u001b[0mscipy\u001b[0m\u001b[0;34m.\u001b[0m\u001b[0mspatial\u001b[0m\u001b[0;34m.\u001b[0m\u001b[0mdistance\u001b[0m \u001b[0;32mimport\u001b[0m \u001b[0mpdist\u001b[0m\u001b[0;34m\u001b[0m\u001b[0;34m\u001b[0m\u001b[0m\n\u001b[0;32m---> 19\u001b[0;31m \u001b[0;32mfrom\u001b[0m \u001b[0mmlxtend\u001b[0m\u001b[0;34m.\u001b[0m\u001b[0mpreprocessing\u001b[0m \u001b[0;32mimport\u001b[0m \u001b[0mTransactionEncoder\u001b[0m\u001b[0;34m\u001b[0m\u001b[0;34m\u001b[0m\u001b[0m\n\u001b[0m\u001b[1;32m     20\u001b[0m \u001b[0;32mfrom\u001b[0m \u001b[0mmlxtend\u001b[0m\u001b[0;34m.\u001b[0m\u001b[0mfrequent_patterns\u001b[0m \u001b[0;32mimport\u001b[0m \u001b[0mapriori\u001b[0m\u001b[0;34m\u001b[0m\u001b[0;34m\u001b[0m\u001b[0m\n\u001b[1;32m     21\u001b[0m \u001b[0;32mfrom\u001b[0m \u001b[0mscipy\u001b[0m\u001b[0;34m.\u001b[0m\u001b[0mcluster\u001b[0m\u001b[0;34m.\u001b[0m\u001b[0mhierarchy\u001b[0m \u001b[0;32mimport\u001b[0m \u001b[0mlinkage\u001b[0m\u001b[0;34m,\u001b[0m \u001b[0mdendrogram\u001b[0m\u001b[0;34m\u001b[0m\u001b[0;34m\u001b[0m\u001b[0m\n",
      "\u001b[0;31mModuleNotFoundError\u001b[0m: No module named 'mlxtend'"
     ]
    }
   ],
   "source": [
    "%matplotlib inline\n",
    "import math\n",
    "import numpy as np\n",
    "import pandas as pd\n",
    "import scipy.stats as stats\n",
    "import matplotlib.pyplot as plt\n",
    "import seaborn as sns\n",
    "from collections import defaultdict\n",
    "from scipy.stats.stats import pearsonr\n",
    "import missingno as msno\n",
    "from sklearn.cluster import KMeans\n",
    "from matplotlib import gridspec\n",
    "from sklearn.preprocessing import MinMaxScaler\n",
    "import io\n",
    "import requests\n",
    "import os\n",
    "from scipy.stats import mode\n",
    "from scipy.spatial.distance import pdist\n",
    "from mlxtend.preprocessing import TransactionEncoder\n",
    "from mlxtend.frequent_patterns import apriori\n",
    "from scipy.cluster.hierarchy import linkage, dendrogram\n",
    "from collections import defaultdict\n",
    "from sklearn.metrics import confusion_matrix\n",
    "from sklearn.metrics import accuracy_score, f1_score, classification_report\n",
    "from sklearn.metrics import roc_curve, auc, roc_auc_score\n",
    "from sklearn.tree import DecisionTreeClassifier\n",
    "from sklearn.model_selection import train_test_split\n",
    "from sklearn.preprocessing import LabelEncoder\n",
    "from sklearn.tree import DecisionTreeClassifier\n",
    "from sklearn.model_selection import RandomizedSearchCV\n",
    "from sklearn.metrics import confusion_matrix\n",
    "from sklearn.metrics import accuracy_score, f1_score, classification_report\n",
    "from sklearn.metrics import roc_curve, auc, roc_auc_score\n",
    "from imblearn.over_sampling import RandomOverSampler\n",
    "from imblearn.under_sampling import ClusterCentroids, RandomUnderSampler"
   ]
  },
  {
   "cell_type": "code",
   "execution_count": 5,
   "metadata": {
    "colab": {},
    "colab_type": "code",
    "id": "2pjAfkG9qRpr"
   },
   "outputs": [],
   "source": [
    "def report(results, n_top=3):\n",
    "    for i in range(1, n_top + 1):\n",
    "        candidates = np.flatnonzero(results['rank_test_score'] == i)\n",
    "        for candidate in candidates:\n",
    "            print(\"Model with rank: {0}\".format(i))\n",
    "            print(\"Mean validation score: {0:.3f} (std: {1:.3f})\".format(\n",
    "                  results['mean_test_score'][candidate],\n",
    "                  results['std_test_score'][candidate]))\n",
    "            print(\"Parameters: {0}\".format(results['params'][candidate]))\n",
    "            print(\"\")"
   ]
  },
  {
   "cell_type": "code",
   "execution_count": 2,
   "metadata": {
    "colab": {},
    "colab_type": "code",
    "id": "j-k-bHupfBaf"
   },
   "outputs": [],
   "source": [
    "# training_transformed contains the transformed (missing+transformation) dataset\n",
    "dataset = 'training_transformed_new'\n",
    "\n",
    "# donwload the dataset file\n",
    "filename = dataset + '.pickle'\n",
    "if not os.path.exists(filename):\n",
    "  url = 'http://deselmo.com/dm/' + filename\n",
    "  r = requests.get(url)\n",
    "  with open(filename, 'wb') as f:\n",
    "      f.write(r.content)\n",
    "df_training_ = pd.read_pickle(filename)"
   ]
  },
  {
   "cell_type": "code",
   "execution_count": 3,
   "metadata": {
    "colab": {},
    "colab_type": "code",
    "id": "FD1YSQ8DfCzE"
   },
   "outputs": [],
   "source": [
    "# testing_transformed contains the transformed (transformation) dataset\n",
    "dataset = 'test_transformed_new'\n",
    "\n",
    "# donwload the dataset file\n",
    "filename = dataset + '.pickle'\n",
    "if not os.path.exists(filename):\n",
    "  url = 'http://deselmo.com/dm/' + filename\n",
    "  r = requests.get(url)\n",
    "  with open(filename, 'wb') as f:\n",
    "      f.write(r.content)\n",
    "df_test_ = pd.read_pickle(filename)"
   ]
  },
  {
   "cell_type": "code",
   "execution_count": 4,
   "metadata": {
    "colab": {},
    "colab_type": "code",
    "id": "MRGnex3bfE3A"
   },
   "outputs": [
    {
     "data": {
      "text/html": [
       "<div>\n",
       "<style scoped>\n",
       "    .dataframe tbody tr th:only-of-type {\n",
       "        vertical-align: middle;\n",
       "    }\n",
       "\n",
       "    .dataframe tbody tr th {\n",
       "        vertical-align: top;\n",
       "    }\n",
       "\n",
       "    .dataframe thead th {\n",
       "        text-align: right;\n",
       "    }\n",
       "</style>\n",
       "<table border=\"1\" class=\"dataframe\">\n",
       "  <thead>\n",
       "    <tr style=\"text-align: right;\">\n",
       "      <th></th>\n",
       "      <th>RefId</th>\n",
       "      <th>IsBadBuy</th>\n",
       "      <th>PurchDate</th>\n",
       "      <th>Auction</th>\n",
       "      <th>VehYear</th>\n",
       "      <th>VehicleAge</th>\n",
       "      <th>Make</th>\n",
       "      <th>Model</th>\n",
       "      <th>Trim</th>\n",
       "      <th>SubModel</th>\n",
       "      <th>...</th>\n",
       "      <th>Variation_rate_RCP</th>\n",
       "      <th>Variation_rate_mean</th>\n",
       "      <th>VehBCost_Current</th>\n",
       "      <th>Difference_Current_AAP</th>\n",
       "      <th>Difference_Current_ACP</th>\n",
       "      <th>Difference_Current_RAP</th>\n",
       "      <th>Difference_Current_RCP</th>\n",
       "      <th>Markup_Current_AP_max</th>\n",
       "      <th>Markup_Current_CP_max</th>\n",
       "      <th>PurchYear</th>\n",
       "    </tr>\n",
       "  </thead>\n",
       "  <tbody>\n",
       "    <tr>\n",
       "      <td>0</td>\n",
       "      <td>326</td>\n",
       "      <td>1</td>\n",
       "      <td>10/25/2010</td>\n",
       "      <td>ADESA</td>\n",
       "      <td>2008</td>\n",
       "      <td>2</td>\n",
       "      <td>KIA</td>\n",
       "      <td>SPECTRA</td>\n",
       "      <td>EX</td>\n",
       "      <td>4D SEDAN EX</td>\n",
       "      <td>...</td>\n",
       "      <td>2.263549</td>\n",
       "      <td>4.835677</td>\n",
       "      <td>29497.628673</td>\n",
       "      <td>528.0</td>\n",
       "      <td>1435.0</td>\n",
       "      <td>3505.0</td>\n",
       "      <td>4550.0</td>\n",
       "      <td>4033.0</td>\n",
       "      <td>5985.0</td>\n",
       "      <td>2010</td>\n",
       "    </tr>\n",
       "    <tr>\n",
       "      <td>1</td>\n",
       "      <td>42991</td>\n",
       "      <td>0</td>\n",
       "      <td>5/27/2009</td>\n",
       "      <td>MANHEIM</td>\n",
       "      <td>2006</td>\n",
       "      <td>3</td>\n",
       "      <td>DODGE</td>\n",
       "      <td>STRATUS V6 2.7L V6 M</td>\n",
       "      <td>SXT</td>\n",
       "      <td>4D SEDAN SXT FFV</td>\n",
       "      <td>...</td>\n",
       "      <td>2.150086</td>\n",
       "      <td>2.783101</td>\n",
       "      <td>11132.404224</td>\n",
       "      <td>1480.0</td>\n",
       "      <td>2461.0</td>\n",
       "      <td>2418.0</td>\n",
       "      <td>3478.0</td>\n",
       "      <td>3898.0</td>\n",
       "      <td>5939.0</td>\n",
       "      <td>2009</td>\n",
       "    </tr>\n",
       "    <tr>\n",
       "      <td>2</td>\n",
       "      <td>55273</td>\n",
       "      <td>0</td>\n",
       "      <td>3/18/2010</td>\n",
       "      <td>OTHER</td>\n",
       "      <td>2008</td>\n",
       "      <td>2</td>\n",
       "      <td>DODGE</td>\n",
       "      <td>CALIBER</td>\n",
       "      <td>SE</td>\n",
       "      <td>4D WAGON</td>\n",
       "      <td>...</td>\n",
       "      <td>2.733622</td>\n",
       "      <td>6.614564</td>\n",
       "      <td>49609.230335</td>\n",
       "      <td>-3.0</td>\n",
       "      <td>602.0</td>\n",
       "      <td>3221.0</td>\n",
       "      <td>3850.0</td>\n",
       "      <td>3218.0</td>\n",
       "      <td>4452.0</td>\n",
       "      <td>2010</td>\n",
       "    </tr>\n",
       "    <tr>\n",
       "      <td>3</td>\n",
       "      <td>29058</td>\n",
       "      <td>0</td>\n",
       "      <td>6/8/2009</td>\n",
       "      <td>OTHER</td>\n",
       "      <td>2005</td>\n",
       "      <td>4</td>\n",
       "      <td>FORD</td>\n",
       "      <td>FREESTAR FWD V6 3.9L</td>\n",
       "      <td>S</td>\n",
       "      <td>PASSENGER 3.9L</td>\n",
       "      <td>...</td>\n",
       "      <td>2.593055</td>\n",
       "      <td>16.058093</td>\n",
       "      <td>75874.487774</td>\n",
       "      <td>92.0</td>\n",
       "      <td>1933.0</td>\n",
       "      <td>977.0</td>\n",
       "      <td>2966.0</td>\n",
       "      <td>1069.0</td>\n",
       "      <td>4899.0</td>\n",
       "      <td>2009</td>\n",
       "    </tr>\n",
       "    <tr>\n",
       "      <td>4</td>\n",
       "      <td>34991</td>\n",
       "      <td>0</td>\n",
       "      <td>3/4/2009</td>\n",
       "      <td>MANHEIM</td>\n",
       "      <td>2005</td>\n",
       "      <td>4</td>\n",
       "      <td>CHRYSLER</td>\n",
       "      <td>TOWN &amp; COUNTRY FWD V</td>\n",
       "      <td>Bas</td>\n",
       "      <td>MINIVAN 3.3L</td>\n",
       "      <td>...</td>\n",
       "      <td>3.939819</td>\n",
       "      <td>-0.571170</td>\n",
       "      <td>-3238.535646</td>\n",
       "      <td>-300.0</td>\n",
       "      <td>1141.0</td>\n",
       "      <td>630.0</td>\n",
       "      <td>2186.0</td>\n",
       "      <td>330.0</td>\n",
       "      <td>3327.0</td>\n",
       "      <td>2009</td>\n",
       "    </tr>\n",
       "  </tbody>\n",
       "</table>\n",
       "<p>5 rows × 55 columns</p>\n",
       "</div>"
      ],
      "text/plain": [
       "   RefId  IsBadBuy   PurchDate  Auction  VehYear  VehicleAge      Make  \\\n",
       "0    326         1  10/25/2010    ADESA     2008           2       KIA   \n",
       "1  42991         0   5/27/2009  MANHEIM     2006           3     DODGE   \n",
       "2  55273         0   3/18/2010    OTHER     2008           2     DODGE   \n",
       "3  29058         0    6/8/2009    OTHER     2005           4      FORD   \n",
       "4  34991         0    3/4/2009  MANHEIM     2005           4  CHRYSLER   \n",
       "\n",
       "                  Model Trim          SubModel  ... Variation_rate_RCP  \\\n",
       "0               SPECTRA   EX       4D SEDAN EX  ...           2.263549   \n",
       "1  STRATUS V6 2.7L V6 M  SXT  4D SEDAN SXT FFV  ...           2.150086   \n",
       "2               CALIBER   SE          4D WAGON  ...           2.733622   \n",
       "3  FREESTAR FWD V6 3.9L    S    PASSENGER 3.9L  ...           2.593055   \n",
       "4  TOWN & COUNTRY FWD V  Bas      MINIVAN 3.3L  ...           3.939819   \n",
       "\n",
       "  Variation_rate_mean  VehBCost_Current Difference_Current_AAP  \\\n",
       "0            4.835677      29497.628673                  528.0   \n",
       "1            2.783101      11132.404224                 1480.0   \n",
       "2            6.614564      49609.230335                   -3.0   \n",
       "3           16.058093      75874.487774                   92.0   \n",
       "4           -0.571170      -3238.535646                 -300.0   \n",
       "\n",
       "   Difference_Current_ACP Difference_Current_RAP Difference_Current_RCP  \\\n",
       "0                  1435.0                 3505.0                 4550.0   \n",
       "1                  2461.0                 2418.0                 3478.0   \n",
       "2                   602.0                 3221.0                 3850.0   \n",
       "3                  1933.0                  977.0                 2966.0   \n",
       "4                  1141.0                  630.0                 2186.0   \n",
       "\n",
       "  Markup_Current_AP_max  Markup_Current_CP_max  PurchYear  \n",
       "0                4033.0                 5985.0       2010  \n",
       "1                3898.0                 5939.0       2009  \n",
       "2                3218.0                 4452.0       2010  \n",
       "3                1069.0                 4899.0       2009  \n",
       "4                 330.0                 3327.0       2009  \n",
       "\n",
       "[5 rows x 55 columns]"
      ]
     },
     "execution_count": 4,
     "metadata": {},
     "output_type": "execute_result"
    }
   ],
   "source": [
    "df_training_.head()"
   ]
  },
  {
   "cell_type": "markdown",
   "metadata": {
    "colab_type": "text",
    "id": "5tP33ILHSUyL"
   },
   "source": [
    "## SetUp"
   ]
  },
  {
   "cell_type": "markdown",
   "metadata": {
    "colab_type": "text",
    "id": "LcsLLES1fsrJ"
   },
   "source": [
    "### Columns"
   ]
  },
  {
   "cell_type": "code",
   "execution_count": null,
   "metadata": {
    "colab": {},
    "colab_type": "code",
    "id": "gvopGHb_bs7S"
   },
   "outputs": [],
   "source": [
    "target = 'IsBadBuy'\n",
    "\n",
    "categorical = [\n",
    "  # 'PurchDate',\n",
    "  # 'Auction',\n",
    "  # 'Transmission',\n",
    "  # 'WheelTypeID',\n",
    "  # 'PRIMEUNIT',\n",
    "  # 'BYRNO',\n",
    "  # 'VNZIP1',\n",
    "  # 'IsTopThreeAmericanName',\n",
    "\n",
    "  'Make',\n",
    "  'Model',\n",
    "  'Trim',\n",
    "  'SubModel',\n",
    "  'Color',\n",
    "  'WheelType',\n",
    "  'Nationality',\n",
    "  'Size',\n",
    "  'TopThreeAmericanName',\n",
    "  'AUCGUART',\n",
    "  'VNST',\n",
    "  'IsOnlineSale',\n",
    "  'IsTransmissionAuto',\n",
    "]\n",
    "\n",
    "numerical = [\n",
    "  'PurchYear',\n",
    "  'VehYear',\n",
    "\n",
    "  'VehicleAge',\n",
    "  'VehOdo',\n",
    "  'VehBCost',\n",
    "  'WarrantyCost',\n",
    "\n",
    "  'Markup_Current_AP_max',\n",
    "  'Markup_Current_CP_max',\n",
    "  'Markup_Acquisition_AP_max',\n",
    "  'Markup_Acquisition_CP_max',\n",
    "\n",
    "  'MMRAcquisitionAuctionAveragePrice',\n",
    "  'MMRAcquisitionAuctionCleanPrice',\n",
    "  'MMRAcquisitionRetailAveragePrice',\n",
    "  'MMRAcquisitonRetailCleanPrice',\n",
    "  'MMRCurrentAuctionAveragePrice',\n",
    "  'MMRCurrentAuctionCleanPrice',\n",
    "  'MMRCurrentRetailAveragePrice',\n",
    "  'MMRCurrentRetailCleanPrice',\n",
    "\n",
    "  'Difference_Acquisition_AAP',\n",
    "  'Difference_Acquisition_ACP',\n",
    "  'Difference_Acquisition_RAP',\n",
    "  'Difference_Acquisition_RCP',\n",
    "  'Difference_Current_AAP',\n",
    "  'Difference_Current_ACP',\n",
    "  'Difference_Current_RAP',\n",
    "  'Difference_Current_RCP',\n",
    "]\n",
    "\n",
    "columns2use = [target] + categorical + numerical"
   ]
  },
  {
   "cell_type": "code",
   "execution_count": null,
   "metadata": {
    "colab": {},
    "colab_type": "code",
    "id": "j3_lPuwbsxmO"
   },
   "outputs": [],
   "source": [
    "df_training = df_training_[columns2use].copy()\n",
    "df_test = df_test_[columns2use].copy()"
   ]
  },
  {
   "cell_type": "code",
   "execution_count": null,
   "metadata": {
    "colab": {},
    "colab_type": "code",
    "id": "4DogEwXadNLy"
   },
   "outputs": [],
   "source": [
    "label_encoders = dict()\n",
    "column2encode = categorical\n",
    "\n",
    "for col in column2encode:\n",
    "    le = LabelEncoder()\n",
    "    df_training[col] = le.fit_transform(df_training[col])\n",
    "    label_encoders[col] = le\n",
    "\n",
    "for col in column2encode:\n",
    "    le = LabelEncoder()\n",
    "    df_test[col] = le.fit_transform(df_test[col])\n",
    "    label_encoders[col] = le"
   ]
  },
  {
   "cell_type": "code",
   "execution_count": null,
   "metadata": {
    "colab": {
     "base_uri": "https://localhost:8080/",
     "height": 224
    },
    "colab_type": "code",
    "id": "2zkBo7nEz90f",
    "outputId": "f2c0c977-9e91-419c-ea02-735accb195cb"
   },
   "outputs": [],
   "source": [
    "df_test.head()"
   ]
  },
  {
   "cell_type": "markdown",
   "metadata": {
    "colab_type": "text",
    "id": "t6qK3jNdAbbf"
   },
   "source": [
    "### Filter with dbscan"
   ]
  },
  {
   "cell_type": "code",
   "execution_count": null,
   "metadata": {
    "colab": {
     "base_uri": "https://localhost:8080/",
     "height": 35
    },
    "colab_type": "code",
    "id": "Y9M45hosAo-Z",
    "outputId": "ce9feead-dabc-4a74-c02d-a6ea1e8ba222"
   },
   "outputs": [],
   "source": [
    "filename = 'dbscan_labels.npy'\n",
    "if not os.path.exists(filename):\n",
    "  url = 'http://deselmo.com/dm/' + filename\n",
    "  r = requests.get(url)\n",
    "  with open(filename, 'wb') as f:\n",
    "      f.write(r.content)\n",
    "dbscan_labels = np.load(filename)\n",
    "\n",
    "dbscan_noise_mask = np.vectorize(lambda x: x==0)(dbscan_labels)\n",
    "\n",
    "df_training = df_training[dbscan_noise_mask].copy()\n",
    "len(df_training)"
   ]
  },
  {
   "cell_type": "markdown",
   "metadata": {
    "colab_type": "text",
    "id": "B4NeKebOAikF"
   },
   "source": [
    "### Create samples"
   ]
  },
  {
   "cell_type": "code",
   "execution_count": null,
   "metadata": {
    "colab": {},
    "colab_type": "code",
    "id": "Wkbl-OfsiBPE"
   },
   "outputs": [],
   "source": [
    "attributes = [col for col in columns2use if col != target]\n",
    "\n",
    "X_train = df_training[attributes].values\n",
    "y_train = df_training[target]\n",
    "\n",
    "X_test = df_test[attributes].values\n",
    "y_test = df_test[target]"
   ]
  },
  {
   "cell_type": "markdown",
   "metadata": {
    "colab_type": "text",
    "id": "CeQv1pCTyzdk"
   },
   "source": [
    "## Training"
   ]
  },
  {
   "cell_type": "code",
   "execution_count": null,
   "metadata": {
    "colab": {
     "base_uri": "https://localhost:8080/",
     "height": 233
    },
    "colab_type": "code",
    "id": "SIXfLtAtspT6",
    "outputId": "d1f90459-aefc-41dd-e3c8-1f5b23c66de6"
   },
   "outputs": [],
   "source": [
    "candidates = []\n",
    "\n",
    "param_list = {\n",
    "    'max_depth': [None] + list(np.arange(2, 50)),\n",
    "    'min_samples_split': [2, 5, 10, 15, 20, 30, 50, 100, 150, 200, 250, 300],\n",
    "    'min_samples_leaf': [1, 5, 10, 15, 20, 30, 50, 100, 150, 200],\n",
    "    'criterion': ['gini', 'entropy'],\n",
    "}\n",
    "\n",
    "clf = DecisionTreeClassifier(criterion='gini', class_weight='balanced')\n",
    "\n",
    "random_search = RandomizedSearchCV(clf, param_distributions=param_list, n_iter=100, verbose=1, cv=10, n_jobs=8)\n",
    "random_search.fit(X_train, y_train)\n",
    "\n",
    "report(random_search.cv_results_, n_top=3)"
   ]
  },
  {
   "cell_type": "code",
   "execution_count": null,
   "metadata": {
    "colab": {
     "base_uri": "https://localhost:8080/",
     "height": 143
    },
    "colab_type": "code",
    "id": "0s4TKZ-10sg3",
    "outputId": "375bfc8f-171f-41a8-c535-64c103ed0cf3"
   },
   "outputs": [],
   "source": [
    "# params = dict(min_samples_split=5, min_samples_leaf=1, max_depth=25, criterion='gini')\n",
    "params = dict(min_samples_split=2, min_samples_leaf=1, max_depth=28, criterion='entropy')\n",
    "# params = dict(min_samples_split=15, min_samples_leaf=1, max_depth=27, criterion='entropy')\n",
    "# params = dict(min_samples_split=20, min_samples_leaf=1, max_depth=33, criterion='gini')\n",
    "\n",
    "clf = DecisionTreeClassifier(class_weight='balanced', **params)\n",
    "clf = clf.fit(X_train, y_train)\n",
    "\n",
    "y_pred_tr = clf.predict(X_train)\n",
    "print('Train Accuracy %s' % accuracy_score(y_train, y_pred_tr))\n",
    "print('Train F1-score %s' % f1_score(y_train, y_pred_tr, average=None))\n",
    "print('Train roc_auc_score %s' % roc_auc_score(y_train, y_pred_tr))\n",
    "\n",
    "print()\n",
    "\n",
    "y_pred_ts = clf.predict(X_test)\n",
    "print('Test Accuracy %s' % accuracy_score(y_test, y_pred_ts))\n",
    "print('Test F1-score %s' % f1_score(y_test, y_pred_ts, average=None))\n",
    "print('Test roc_auc_score %s' % roc_auc_score(y_test, y_pred_ts))\n"
   ]
  },
  {
   "cell_type": "code",
   "execution_count": null,
   "metadata": {
    "colab": {
     "base_uri": "https://localhost:8080/",
     "height": 719
    },
    "colab_type": "code",
    "id": "VII2THe1IbH4",
    "outputId": "fd484622-f2e1-4c56-94c1-def6f983b28c"
   },
   "outputs": [],
   "source": [
    "for col, imp in zip(columns2use[1:], clf.feature_importances_):\n",
    "    print(col, imp)"
   ]
  },
  {
   "cell_type": "code",
   "execution_count": null,
   "metadata": {
    "colab": {},
    "colab_type": "code",
    "id": "wJsnFIjK0d8F"
   },
   "outputs": [],
   "source": []
  },
  {
   "cell_type": "code",
   "execution_count": null,
   "metadata": {},
   "outputs": [],
   "source": []
  }
 ],
 "metadata": {
  "colab": {
   "collapsed_sections": [
    "UzjdWXUVqJhZ",
    "LcsLLES1fsrJ",
    "t6qK3jNdAbbf",
    "B4NeKebOAikF"
   ],
   "name": "classification.ipynb",
   "provenance": [],
   "toc_visible": true
  },
  "kernelspec": {
   "display_name": "Python 3",
   "language": "python",
   "name": "python3"
  },
  "language_info": {
   "codemirror_mode": {
    "name": "ipython",
    "version": 3
   },
   "file_extension": ".py",
   "mimetype": "text/x-python",
   "name": "python",
   "nbconvert_exporter": "python",
   "pygments_lexer": "ipython3",
   "version": "3.7.4"
  }
 },
 "nbformat": 4,
 "nbformat_minor": 4
}
