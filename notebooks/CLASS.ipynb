{
 "cells": [
  {
   "cell_type": "markdown",
   "metadata": {},
   "source": [
    "| Name | type | notes | description (da `Carvana_Data_Dictionary.txt`) |\n",
    "|------|------|-------|-------------|\n",
    "| [RefId](#RefId) | int64 | tutti i valori sono diversi fra loro (IRRELEVANT FEATURE for the analysis) | Unique (sequential) number assigned to vehicles |\n",
    "| [IsBadBuy](#IsBadBuy) | int64 | contiene {0, 1}, sono 1 circa il 12% | Identifies if the kicked vehicle was an avoidable purchase |\n",
    "| [PurchDate](#PurchDate) | object | e' una `str` nel formato `m/g/aaaa` | The Date the vehicle was Purchased at Auction |\n",
    "| [Auction](#Auction) | object | categorical - contiene i valori `{'ADESA', 'MANHEIM', 'OTHER'}` | Auction provider at which the  vehicle was purchased |\n",
    "| [VehYear](#VehYear) | int64 | numerical - contiene valori da 2001 a 2010 (REDUNDANT FEATURE: stessa informazione di VehicleAge) | The manufacturer's year of the vehicle |\n",
    "| [VehicleAge](#VehicleAge) | int64 | numerical - contiene valori da 0 a 9, il veicolo con 0 age e' il veicolo del 2010, quindi i dati risalgono al 2010 | The Years elapsed since the manufacturer's year |\n",
    "| [Make](#Make) | object | categorical - `str` contentente la  marca del veicolo  | Vehicle Manufacturer |\n",
    "| [Model](#Model) | object | categorical - `str` contentente il modello del veicolo | Vehicle Model |\n",
    "| [Trim](#Trim) | object | categorical - `str` contenente il trim level del veicolo - valori mancanti | Vehicle Trim Level |\n",
    "| [SubModel](#SubModel) | object | categorical - `str` contenente il sottomodello del veicolo - valori mancanti | Vehicle Submodel |\n",
    "| [Color](#Color) | object | categorical - Ci sono 16 colori tra cui il colore OTHER e NOT_AVAIL - valori mancanti 7 | Vehicle Color |\n",
    "| [Transmission](#Transmission) | object | categorical - `str` contenente il tipo di trasmissione (AUTOMATIC , MANUAL)- sono presenti 3 Missing Values ed un errore di inserimento 'Manual' | Vehicles transmission type (Automatic, Manual) |\n",
    "| [WheelTypeID](#WheelTypeID) | float64 | discrete - contiene valori 0., 1., 2. e 3. - valori mancanti 2573 - 0. si può considerare un errore REDUNDANT FEATURE: stessa informazione di WheelType) | The type id of the vehicle wheel |\n",
    "| [WheelType](#WheelType) | object | categorical - 2577 missing values (come per WheelTypeID) - ogni ID corrisponde a un tipo - 3 categorie `{'Covers', 'Alloy', 'Special'}` | The vehicle wheel type description (Alloy, Covers) |\n",
    "| [VehOdo](#VehOdo) | int64 | numerical - valori compresi tra 4825 e 115717 | The vehicles odometer reading |\n",
    "| [Nationality](#Nationality) | object | categorical - 4 valori unici - 4 valori mancanti - 84% circa sono `'AMERICAN'` | The Manufacturer's country |\n",
    "| [Size](#Size) | object | categorical - 12 valori diversi - quasi la meta' dei valori e' `MEDIUM` - 4 valori mancanti | The size category of the vehicle (Compact, SUV, etc.) |\n",
    "| [TopThreeAmericanName](#TopThreeAmericanName) | object | categorical - Sono 4 valori(GM,Chrysler,Ford,Other) - 4 valori mancanti | Identifies if the manufacturer is one of the top three American manufacturers |\n",
    "| [MMRAcquisitionAuctionAveragePrice](#MMRAcquisitionAuctionAveragePrice) | float64 | numerical - alcuni prezzi sono a 0 - 13 valori mancanti - `Float` contenente il prezzo di  dei veicoli con condizioni nella media al momento dell'acquisto - bisogna capire se questo prezzo viene considerato da Carvana  prima dell'asta o in un momento successivo all'acquisto dell'auto all'asta - sono presenti 13 Missing Values (VITALBA: aggiunta variabile con missing values sostituiti con il prezzo medio senza zero-values) - The Manheim Market Report (MMR) is the premier indicator of wholesale prices. Pricing calculations are based on over 10 million sales transactions for the previous 13 months with precise pricing unmatched by guidebooks. | Acquisition price for this vehicle in average condition at time of purchase |\n",
    "| [MMRAcquisitionAuctionCleanPrice](#MMRAcquisitionAuctionCleanPrice) | float64 | numerical - alcuni prezzi sono a 0 - 13 valori mancanti - creato una nuova variabile in cui sono stati sostituiti i 13 valori mancanti (i valori pari a zero sono stati sotituiti dalla media - calcolata escluso gli zeri) - come ci aspettavamo, questi indici sono più altri agli stessi in Average | Acquisition price for this vehicle in the above Average condition at time of purchase |\n",
    "| [MMRAcquisitionRetailAveragePrice](#MMRAcquisitionRetailAveragePrice) | float64 | numerical - alcuni prezzi sono a 0 - 13 valori mancanti - anche qui creata una nuova variabile con missing values sostituiti nello stesso modo di sopra | Acquisition price for this vehicle in the retail market in average condition at time of purchase |\n",
    "| [MMRAcquisitonRetailCleanPrice](#MMRAcquisitonRetailCleanPrice) | float64 | numerical - alcuni prezzi sono a 0 - 13 valori mancanti - stessa cosa come sopra - come ci aspettavamo, questi indici sono più altri agli stessi in Average | Acquisition price for this vehicle in the retail market in above average condition at time of purchase |\n",
    "| [MMRCurrentAuctionAveragePrice](#MMRCurrentAuctionAveragePrice) | float64 | numerical - alcuni prezzi sono a 0 - 245 missing values - creata nuova variabile con missing values e zeri sostituiti dalla media dei non-zero values | Acquisition price for this vehicle in average condition as of current day |\n",
    "| [MMRCurrentAuctionCleanPrice](#MMRCurrentAuctionCleanPrice) | float64 | numerical - alcuni prezzi sono a 0 - 245 missing values - creata nuova variabile con missing values e zeri sostituiti dalla media dei non-zero values | Acquisition price for this vehicle in the above condition as of current day |\n",
    "| [MMRCurrentRetailAveragePrice](#MMRCurrentRetailAveragePrice) | float64 | numerical - alcuni prezzi sono a 0 - 45 missing values - creata nuova variabile con missing values e zeri sostituiti dalla media dei non-zero values | Acquisition price for this vehicle in the retail market in average condition as of current day | Acquisition price for this vehicle in the retail market in average condition as of current day |\n",
    "| [MMRCurrentRetailCleanPrice](#MMRCurrentRetailCleanPrice) | float64 | numerical - alcuni prezzi sono a 0 - 245 missing values - creata nuova variabile con missing values e zeri sostituiti dalla media dei non-zero values | Acquisition price for this vehicle in the retail market in above average condition as of current day | Acquisition price for this vehicle in the retail market in above average condition as of current day |\n",
    "| [PRIMEUNIT](#PRIMEUNIT) | object | categorical - contiene `{YES, NO}` - circa il 97.7% e' `NO` - ci sono 55703 missing values: la variabile non può essere utilizzata | Identifies if the vehicle would have a higher demand than a standard purchase |\n",
    "| [AUCGUART](#AUCGUART) | object | categorical - contiene `{GREEN, RED}` - circa il 97.9% e' `GREEN` - ci sono 55703 missing values: la variabile non può essere utilizzata - si può dire soltanto che i veicoli ad alto rischio non presentano domanda (le variabili sembrano essere in relazione) - dalla descrizione potrebbe essere possibile anche il valore `YELLOW` | The level guarntee provided by auction for the vehicle(Green light-Guaranteed/arbitratable,Yellow Light-caution/issue,red light-sold as is) |\n",
    "| [BYRNO](#BYRNO) | int64 | numerico - identificatico dell'acquirente che partecipa all'asta per acquistare il veicolo - 72 valori diversi | Unique number assigned to the buyer that purchased the vehicle |\n",
    "| [VNZIP1](#VNZIP1) | int64 | numerical - Non ci sono missing value - 152 valori diversi (REDUNDANT FEATURE: stessa informazione di VNST) | Zipcode where the car was purchased |\n",
    "| [VNST](#VNST) | object | categorical - Non ci sono missing value - 37 categorie | State where the the car was purchased |\n",
    "| [VehBCost](#VehBCost) | float64 | numerical - valori bassi per alcuni elementi (tipo 1 dollaro), ma e' un asta quindi bo | Acquisition cost paid for the vehicle at time of purchase |\n",
    "| [IsOnlineSale](#IsOnlineSale) | int64 | discrete - valori possibili 0 e 1 - 0 per no - 1 per si, circa il 0.97% e' 0 - non c'è associazione tra acquisto online e bad buy - principalmente i veicoli non vengono acquistati online (il tasso di acquisto online maggiore è per la SUBARU con il 13% circa) | Identifies if the vehicle was originally purchased online |\n",
    "| [WarrantyCost](#WarrantyCost) | int64 | numerical - la media e circa di 12k | Warranty price (term=36month  and millage=36K) |"
   ]
  },
  {
   "cell_type": "code",
   "execution_count": 1,
   "metadata": {},
   "outputs": [],
   "source": [
    "%matplotlib inline\n",
    "import math\n",
    "import numpy as np\n",
    "import pandas as pd\n",
    "import scipy.stats as stats\n",
    "import matplotlib.pyplot as plt\n",
    "import seaborn as sns\n",
    "from collections import defaultdict\n",
    "from scipy.stats.stats import pearsonr\n",
    "import missingno as msno\n",
    "from sklearn.cluster import KMeans\n",
    "from matplotlib import gridspec\n",
    "from sklearn.metrics import silhouette_score\n",
    "from scipy.spatial.distance import pdist,squareform\n",
    "from sklearn.cluster import DBSCAN\n",
    "from scipy.spatial.distance import pdist, squareform"
   ]
  },
  {
   "cell_type": "code",
   "execution_count": 165,
   "metadata": {
    "colab": {},
    "colab_type": "code",
    "id": "dT5GlyFiV-BZ"
   },
   "outputs": [],
   "source": [
    "df = pd.read_csv('training.csv')"
   ]
  },
  {
   "cell_type": "code",
   "execution_count": null,
   "metadata": {},
   "outputs": [],
   "source": [
    "pd."
   ]
  },
  {
   "cell_type": "code",
   "execution_count": 166,
   "metadata": {
    "colab": {
     "base_uri": "https://localhost:8080/",
     "height": 377
    },
    "colab_type": "code",
    "id": "ykIjGka_V-Bf",
    "outputId": "9829b5ef-bd9a-43ea-c98f-3d52111bd194"
   },
   "outputs": [
    {
     "data": {
      "text/plain": [
       "Trim                                  1911\n",
       "SubModel                                 7\n",
       "Color                                    7\n",
       "Transmission                             8\n",
       "WheelTypeID                           2573\n",
       "WheelType                             2577\n",
       "Nationality                              4\n",
       "Size                                     4\n",
       "TopThreeAmericanName                     4\n",
       "MMRAcquisitionAuctionAveragePrice       13\n",
       "MMRAcquisitionAuctionCleanPrice         13\n",
       "MMRAcquisitionRetailAveragePrice        13\n",
       "MMRAcquisitonRetailCleanPrice           13\n",
       "MMRCurrentAuctionAveragePrice          245\n",
       "MMRCurrentAuctionCleanPrice            245\n",
       "MMRCurrentRetailAveragePrice           245\n",
       "MMRCurrentRetailCleanPrice             245\n",
       "PRIMEUNIT                            55703\n",
       "AUCGUART                             55703\n",
       "dtype: int64"
      ]
     },
     "execution_count": 166,
     "metadata": {},
     "output_type": "execute_result"
    }
   ],
   "source": [
    "missing = df[df.columns[df.isnull().any()]].isnull().sum()\n",
    "missing "
   ]
  },
  {
   "cell_type": "code",
   "execution_count": 167,
   "metadata": {
    "colab": {
     "base_uri": "https://localhost:8080/",
     "height": 719
    },
    "colab_type": "code",
    "id": "N5LqSP0GfxL3",
    "outputId": "cb7f0181-3e24-4ed8-eea0-ac0f2475a82b"
   },
   "outputs": [
    {
     "name": "stdout",
     "output_type": "stream",
     "text": [
      "<class 'pandas.core.frame.DataFrame'>\n",
      "RangeIndex: 58386 entries, 0 to 58385\n",
      "Data columns (total 34 columns):\n",
      "RefId                                58386 non-null int64\n",
      "IsBadBuy                             58386 non-null int64\n",
      "PurchDate                            58386 non-null object\n",
      "Auction                              58386 non-null object\n",
      "VehYear                              58386 non-null int64\n",
      "VehicleAge                           58386 non-null int64\n",
      "Make                                 58386 non-null object\n",
      "Model                                58386 non-null object\n",
      "Trim                                 56475 non-null object\n",
      "SubModel                             58379 non-null object\n",
      "Color                                58379 non-null object\n",
      "Transmission                         58378 non-null object\n",
      "WheelTypeID                          55813 non-null float64\n",
      "WheelType                            55809 non-null object\n",
      "VehOdo                               58386 non-null int64\n",
      "Nationality                          58382 non-null object\n",
      "Size                                 58382 non-null object\n",
      "TopThreeAmericanName                 58382 non-null object\n",
      "MMRAcquisitionAuctionAveragePrice    58373 non-null float64\n",
      "MMRAcquisitionAuctionCleanPrice      58373 non-null float64\n",
      "MMRAcquisitionRetailAveragePrice     58373 non-null float64\n",
      "MMRAcquisitonRetailCleanPrice        58373 non-null float64\n",
      "MMRCurrentAuctionAveragePrice        58141 non-null float64\n",
      "MMRCurrentAuctionCleanPrice          58141 non-null float64\n",
      "MMRCurrentRetailAveragePrice         58141 non-null float64\n",
      "MMRCurrentRetailCleanPrice           58141 non-null float64\n",
      "PRIMEUNIT                            2683 non-null object\n",
      "AUCGUART                             2683 non-null object\n",
      "BYRNO                                58386 non-null int64\n",
      "VNZIP1                               58386 non-null int64\n",
      "VNST                                 58386 non-null object\n",
      "VehBCost                             58386 non-null float64\n",
      "IsOnlineSale                         58386 non-null int64\n",
      "WarrantyCost                         58386 non-null int64\n",
      "dtypes: float64(10), int64(9), object(15)\n",
      "memory usage: 15.1+ MB\n"
     ]
    }
   ],
   "source": [
    "df.info()\n"
   ]
  },
  {
   "cell_type": "code",
   "execution_count": 168,
   "metadata": {
    "colab": {
     "base_uri": "https://localhost:8080/",
     "height": 233
    },
    "colab_type": "code",
    "id": "vxzZgkj4V-Bl",
    "outputId": "90cff101-e8be-4cb4-8cc9-34289a3d081b"
   },
   "outputs": [
    {
     "data": {
      "text/plain": [
       "WheelTypeID                            4\n",
       "MMRAcquisitionAuctionAveragePrice    648\n",
       "MMRAcquisitionAuctionCleanPrice      552\n",
       "MMRAcquisitionRetailAveragePrice     648\n",
       "MMRAcquisitonRetailCleanPrice        648\n",
       "MMRCurrentAuctionAveragePrice        393\n",
       "MMRCurrentAuctionCleanPrice          300\n",
       "MMRCurrentRetailAveragePrice         393\n",
       "MMRCurrentRetailCleanPrice           393\n",
       "VehBCost                               0\n",
       "WarrantyCost                           0\n",
       "dtype: int64"
      ]
     },
     "execution_count": 168,
     "metadata": {},
     "output_type": "execute_result"
    }
   ],
   "source": [
    "subset=df[['WheelTypeID','MMRAcquisitionAuctionAveragePrice','MMRAcquisitionAuctionCleanPrice','MMRAcquisitionRetailAveragePrice','MMRAcquisitonRetailCleanPrice','MMRCurrentAuctionAveragePrice','MMRCurrentAuctionCleanPrice','MMRCurrentRetailAveragePrice','MMRCurrentRetailCleanPrice','VehBCost','WarrantyCost']]\n",
    "(subset==0.0).astype(int).sum(axis=0)"
   ]
  },
  {
   "cell_type": "code",
   "execution_count": null,
   "metadata": {},
   "outputs": [],
   "source": []
  },
  {
   "cell_type": "code",
   "execution_count": 169,
   "metadata": {
    "colab": {
     "base_uri": "https://localhost:8080/",
     "height": 197
    },
    "colab_type": "code",
    "id": "BN7zw4FNV-Bq",
    "outputId": "a2179aa6-5a41-45bc-f66f-ac8f84d145de"
   },
   "outputs": [
    {
     "data": {
      "text/plain": [
       "WheelTypeID                          0\n",
       "MMRAcquisitionAuctionAveragePrice    0\n",
       "MMRAcquisitionAuctionCleanPrice      0\n",
       "MMRAcquisitionRetailAveragePrice     0\n",
       "MMRAcquisitonRetailCleanPrice        0\n",
       "MMRCurrentAuctionAveragePrice        0\n",
       "MMRCurrentAuctionCleanPrice          0\n",
       "MMRCurrentRetailAveragePrice         0\n",
       "MMRCurrentRetailCleanPrice           0\n",
       "dtype: int64"
      ]
     },
     "execution_count": 169,
     "metadata": {},
     "output_type": "execute_result"
    }
   ],
   "source": [
    "cols=['WheelTypeID','MMRAcquisitionAuctionAveragePrice','MMRAcquisitionAuctionCleanPrice','MMRAcquisitionRetailAveragePrice','MMRAcquisitonRetailCleanPrice','MMRCurrentAuctionAveragePrice','MMRCurrentAuctionCleanPrice','MMRCurrentRetailAveragePrice','MMRCurrentRetailCleanPrice']\n",
    "df[cols]=df[cols].replace({0.0:np.nan})\n",
    "(df[cols]==0.0).astype(int).sum(axis=0)"
   ]
  },
  {
   "cell_type": "code",
   "execution_count": 170,
   "metadata": {
    "colab": {
     "base_uri": "https://localhost:8080/",
     "height": 35
    },
    "colab_type": "code",
    "id": "HXXOGezPV-Bw",
    "outputId": "aafb02b5-cd23-4d18-994e-cf7d7e47f8d4"
   },
   "outputs": [
    {
     "data": {
      "text/plain": [
       "0"
      ]
     },
     "execution_count": 170,
     "metadata": {},
     "output_type": "execute_result"
    }
   ],
   "source": [
    "### HANDLING TRIM - MISSING VALUES\n",
    "\n",
    "# PER MODEL\n",
    "pd.set_option('display.max_rows',10000)\n",
    "subset=df[['Model','Trim']]\n",
    "subset\n",
    "modes=subset.groupby('Model')['Trim'].apply(stats.mode)\n",
    "modes[0][0]\n",
    "\n",
    "pd.options.mode.chained_assignment=None\n",
    "model_without_trim=df[df['Trim'].isna()]['Model'].unique()\n",
    "model_without_trim\n",
    "\n",
    "for model in model_without_trim:\n",
    "    mask=(df['Model']==model)\n",
    "    mode=modes[model][0][0]\n",
    "    if mode!=0:\n",
    "        subset.loc[mask,'Trim']=subset.loc[mask,'Trim'].fillna(mode)\n",
    "subset['Trim'].isnull().sum()\n",
    "\n",
    "for model in model_without_trim:\n",
    "    mask=(df['Model']==model)\n",
    "    mode=modes[model][0][0]\n",
    "    if mode!=0:\n",
    "        df.loc[mask,'Trim']=df.loc[mask,'Trim'].fillna(mode)\n",
    "df['Trim'].isnull().sum()\n",
    "\n",
    "pd.set_option('display.max_rows',10000)\n",
    "subsets=df[['SubModel','Trim']]\n",
    "modes=subsets.groupby('SubModel')['Trim'].apply(stats.mode)\n",
    "modes[0][0]\n",
    "\n",
    "# PER SUBMODEL\n",
    "pd.options.mode.chained_assignment=None\n",
    "model_trim_0=df[df['Trim'].isna()]['SubModel'].unique()\n",
    "model_trim_0\n",
    "\n",
    "for submodel in model_trim_0:\n",
    "    if str(submodel)!='nan':\n",
    "        mask=(df['SubModel']==submodel)\n",
    "        mode=modes[submodel][0][0]\n",
    "        if mode!=0:\n",
    "            subsets.loc[mask,'Trim']=subsets.loc[mask,'Trim'].fillna(mode)\n",
    "subsets['Trim'].isnull().sum()    \n",
    "\n",
    "for submodel in model_trim_0:\n",
    "    if str(submodel)!='nan':\n",
    "        mask=(df['SubModel']==submodel)\n",
    "        mode=modes[submodel][0][0]\n",
    "        if mode!=0:\n",
    "            df.loc[mask,'Trim']=df.loc[mask,'Trim'].fillna(mode)\n",
    "df['Trim'].isnull().sum()    \n",
    "\n",
    "# PER SIZE\n",
    "pd.set_option('display.max_rows',10000)\n",
    "subsets=df[['Size','Trim']]\n",
    "modes=subsets.groupby('Size')['Trim'].apply(stats.mode)\n",
    "modes\n",
    "\n",
    "pd.options.mode.chained_assignment=None\n",
    "size_trim_nan=df[df['Trim'].isna()]['Size'].unique()\n",
    "size_trim_nan\n",
    "\n",
    "for size in size_trim_nan:\n",
    "    if str(size)!='nan':\n",
    "        mask=(df['Size']==size)\n",
    "        mode=modes[size][0][0]\n",
    "        if mode!=0:\n",
    "            subsets.loc[mask,'Trim']=subsets.loc[mask,'Trim'].fillna(mode)\n",
    "subsets['Trim'].isnull().sum()    \n",
    "\n",
    "for size in size_trim_nan:\n",
    "    if str(size)!='nan':\n",
    "        mask=(df['Size']==size)\n",
    "        mode=modes[size][0][0]\n",
    "        if mode!=0:\n",
    "            df.loc[mask,'Trim']=df.loc[mask,'Trim'].fillna(mode)\n",
    "df['Trim'].isnull().sum()    "
   ]
  },
  {
   "cell_type": "code",
   "execution_count": 171,
   "metadata": {
    "colab": {
     "base_uri": "https://localhost:8080/",
     "height": 35
    },
    "colab_type": "code",
    "id": "FkPYk8ayV-B1",
    "outputId": "70e9c964-965c-45e9-8645-9d42f1221e5a"
   },
   "outputs": [
    {
     "data": {
      "text/plain": [
       "0"
      ]
     },
     "execution_count": 171,
     "metadata": {},
     "output_type": "execute_result"
    }
   ],
   "source": [
    "### HANDLING SUBMODEL - MISSING VALUES\n",
    "\n",
    "pd.set_option('display.max_rows',10000)\n",
    "subsets=df[['Model','SubModel']]\n",
    "modes=subsets.groupby('Model')['SubModel'].apply(stats.mode)\n",
    "modes\n",
    "\n",
    "pd.options.mode.chained_assignment=None\n",
    "submodel_nan=df[df['SubModel'].isna()]['Model'].unique()\n",
    "submodel_nan\n",
    "\n",
    "for model in submodel_nan:\n",
    "        mask=(df['Model']==model)\n",
    "        mode=modes[model][0][0]\n",
    "        if mode!=0:\n",
    "            subsets.loc[mask,'SubModel']=subsets.loc[mask,'SubModel'].fillna(mode)\n",
    "subsets['SubModel'].isnull().sum()   \n",
    "\n",
    "for model in submodel_nan:\n",
    "        mask=(df['Model']==model)\n",
    "        mode=modes[model][0][0]\n",
    "        if mode!=0:\n",
    "            df.loc[mask,'SubModel']=df.loc[mask,'SubModel'].fillna(mode)\n",
    "df['SubModel'].isnull().sum()   "
   ]
  },
  {
   "cell_type": "code",
   "execution_count": 172,
   "metadata": {
    "colab": {
     "base_uri": "https://localhost:8080/",
     "height": 35
    },
    "colab_type": "code",
    "id": "tchojl7xV-B7",
    "outputId": "b1a54a57-cd28-47f5-d1f5-9aa53817c47c"
   },
   "outputs": [
    {
     "data": {
      "text/plain": [
       "0"
      ]
     },
     "execution_count": 172,
     "metadata": {},
     "output_type": "execute_result"
    }
   ],
   "source": [
    "### HANDLING COLOR - MISSING VALUES\n",
    "\n",
    "df['Color'].fillna(df['Color']=='NOT AVAIL',inplace=True)\n",
    "df['Color'].isnull().sum()"
   ]
  },
  {
   "cell_type": "code",
   "execution_count": 173,
   "metadata": {
    "colab": {
     "base_uri": "https://localhost:8080/",
     "height": 35
    },
    "colab_type": "code",
    "id": "qOlbeOzgV-CB",
    "outputId": "cf4d0c40-c1e4-41a6-c2b4-737a5c7205e5"
   },
   "outputs": [
    {
     "data": {
      "text/plain": [
       "0"
      ]
     },
     "execution_count": 173,
     "metadata": {},
     "output_type": "execute_result"
    }
   ],
   "source": [
    "#SUBSTITUTION Manual\n",
    "df['Transmission'].replace({'Manual':'MANUAL'},inplace=True)\n",
    "df['Transmission'].value_counts()\n",
    "\n",
    "### HANDLING TRANSMISSION - MISSING VALUES\n",
    "pd.set_option('display.max_rows',10000)\n",
    "subset=df[['Model','Transmission']]\n",
    "subset\n",
    "modes=subset.groupby('Model')['Transmission'].apply(stats.mode)\n",
    "modes\n",
    "\n",
    "pd.options.mode.chained_assignment=None\n",
    "model_without_transmission=df[df['Transmission'].isna()]['Model'].unique()\n",
    "model_without_transmission\n",
    "\n",
    "for model in model_without_transmission:\n",
    "    mask=(df['Model']==model)\n",
    "    mode=modes[model][0][0]\n",
    "    if mode!=0:\n",
    "        subset.loc[mask,'Transmission']=subset.loc[mask,'Transmission'].fillna(mode)\n",
    "subset['Transmission'].isnull().sum()\n",
    "\n",
    "for model in model_without_transmission:\n",
    "    mask=(df['Model']==model)\n",
    "    mode=modes[model][0][0]\n",
    "    if mode!=0:\n",
    "        df.loc[mask,'Transmission']=df.loc[mask,'Transmission'].fillna(mode)\n",
    "df['Transmission'].isnull().sum()"
   ]
  },
  {
   "cell_type": "code",
   "execution_count": 174,
   "metadata": {
    "colab": {
     "base_uri": "https://localhost:8080/",
     "height": 35
    },
    "colab_type": "code",
    "id": "VkT5q4rBV-CG",
    "outputId": "467aa01d-8a45-41c3-9ce7-9954dd1f5760"
   },
   "outputs": [
    {
     "data": {
      "text/plain": [
       "0"
      ]
     },
     "execution_count": 174,
     "metadata": {},
     "output_type": "execute_result"
    }
   ],
   "source": [
    "### HANDLING WHEELTYPEID - MISSING VALUES\n",
    "\n",
    "pd.set_option('display.max_rows',10000)\n",
    "subset=df[['Model','WheelTypeID']]\n",
    "subset\n",
    "modes=subset.groupby('Model')['WheelTypeID'].apply(stats.mode)\n",
    "modes\n",
    "\n",
    "pd.options.mode.chained_assignment=None\n",
    "model_without_wheel=df[df['WheelTypeID'].isna()]['Model'].unique()\n",
    "model_without_wheel\n",
    "\n",
    "for model in model_without_wheel:\n",
    "    mask=(df['Model']==model)\n",
    "    mode=modes[model][0][0]\n",
    "    if mode!=0:\n",
    "        subset.loc[mask,'WheelTypeID']=subset.loc[mask,'WheelTypeID'].fillna(mode)\n",
    "subset['WheelTypeID'].isnull().sum()\n",
    "\n",
    "for model in model_without_wheel:\n",
    "    mask=(df['Model']==model)\n",
    "    mode=modes[model][0][0]\n",
    "    if mode!=0:\n",
    "        df.loc[mask,'WheelTypeID']=df.loc[mask,'WheelTypeID'].fillna(mode)\n",
    "df['WheelTypeID'].isnull().sum()\n",
    "\n",
    "df['WheelTypeID'].fillna(df['WheelTypeID'].mode()[0],inplace=True)\n",
    "df['WheelTypeID'].isnull().sum()"
   ]
  },
  {
   "cell_type": "code",
   "execution_count": 175,
   "metadata": {
    "colab": {
     "base_uri": "https://localhost:8080/",
     "height": 35
    },
    "colab_type": "code",
    "id": "Okt8XiDEV-CK",
    "outputId": "5155d113-865c-4a7f-d473-749db96e9964"
   },
   "outputs": [
    {
     "data": {
      "text/plain": [
       "0"
      ]
     },
     "execution_count": 175,
     "metadata": {},
     "output_type": "execute_result"
    }
   ],
   "source": [
    "### HANDLING WHEELTYPE - MISSING VALUES\n",
    "\n",
    "pd.set_option('display.max_rows',10000)\n",
    "subset=df[['Model','WheelType']]\n",
    "subset\n",
    "modes=subset.groupby('Model')['WheelType'].apply(stats.mode)\n",
    "modes\n",
    "\n",
    "pd.options.mode.chained_assignment=None\n",
    "model_without_wheel=df[df['WheelType'].isna()]['Model'].unique()\n",
    "model_without_wheel\n",
    "\n",
    "for model in model_without_wheel:\n",
    "    mask=(df['Model']==model)\n",
    "    mode=modes[model][0][0]\n",
    "    if mode!=0:\n",
    "        subset.loc[mask,'WheelType']=subset.loc[mask,'WheelType'].fillna(mode)\n",
    "subset['WheelType'].isnull().sum()\n",
    "\n",
    "for model in model_without_wheel:\n",
    "    mask=(df['Model']==model)\n",
    "    mode=modes[model][0][0]\n",
    "    if mode!=0:\n",
    "        df.loc[mask,'WheelType']=df.loc[mask,'WheelType'].fillna(mode)\n",
    "df['WheelType'].isnull().sum()\n",
    "\n",
    "df['WheelType'].fillna(df['WheelType'].mode()[0],inplace=True)\n",
    "df['WheelType'].isnull().sum()"
   ]
  },
  {
   "cell_type": "code",
   "execution_count": 176,
   "metadata": {
    "colab": {
     "base_uri": "https://localhost:8080/",
     "height": 35
    },
    "colab_type": "code",
    "id": "wdgIsq8JV-CQ",
    "outputId": "cb3905f5-8c2c-4733-db2d-35dbf59ca43a"
   },
   "outputs": [
    {
     "data": {
      "text/plain": [
       "0"
      ]
     },
     "execution_count": 176,
     "metadata": {},
     "output_type": "execute_result"
    }
   ],
   "source": [
    "### HANDLING NATIONALITY - MISSING VALUES\n",
    "\n",
    "pd.set_option('display.max_rows',10000)\n",
    "subset=df[['Make','Nationality']]\n",
    "subset\n",
    "modes=subset.groupby('Make')['Nationality'].apply(stats.mode)\n",
    "modes\n",
    "\n",
    "pd.options.mode.chained_assignment=None\n",
    "make_without_nationality=df[df['Nationality'].isna()]['Make'].unique()\n",
    "make_without_nationality\n",
    "\n",
    "for make in make_without_nationality:\n",
    "    mask=(df['Make']==make)\n",
    "    mode=modes[make][0][0]\n",
    "    if mode!=0:\n",
    "        subset.loc[mask,'Nationality']=subset.loc[mask,'Nationality'].fillna(mode)\n",
    "subset['Nationality'].isnull().sum()\n",
    "\n",
    "for make in make_without_nationality:\n",
    "    mask=(df['Make']==make)\n",
    "    mode=modes[make][0][0]\n",
    "    if mode!=0:\n",
    "        df.loc[mask,'Nationality']=df.loc[mask,'Nationality'].fillna(mode)\n",
    "df['Nationality'].isnull().sum()"
   ]
  },
  {
   "cell_type": "code",
   "execution_count": 177,
   "metadata": {
    "colab": {
     "base_uri": "https://localhost:8080/",
     "height": 35
    },
    "colab_type": "code",
    "id": "yjyZV6SdV-CU",
    "outputId": "70ed4a8a-48f6-4899-bea6-7648d1cbe038"
   },
   "outputs": [
    {
     "data": {
      "text/plain": [
       "0"
      ]
     },
     "execution_count": 177,
     "metadata": {},
     "output_type": "execute_result"
    }
   ],
   "source": [
    "### HANDLING SIZE - MISSING VALUES\n",
    "\n",
    "pd.set_option('display.max_rows',10000)\n",
    "subset=df[['Model','Size']]\n",
    "subset\n",
    "modes=subset.groupby('Model')['Size'].apply(stats.mode)\n",
    "modes\n",
    "\n",
    "pd.options.mode.chained_assignment=None\n",
    "model_without_size=df[df['Size'].isna()]['Model'].unique()\n",
    "model_without_size\n",
    "\n",
    "for model in model_without_size:\n",
    "    mask=(df['Model']==model)\n",
    "    mode=modes[model][0][0]\n",
    "    if mode!=0:\n",
    "        subset.loc[mask,'Size']=subset.loc[mask,'Size'].fillna(mode)\n",
    "subset['Size'].isnull().sum()\n",
    "\n",
    "for model in model_without_size:\n",
    "    mask=(df['Model']==model)\n",
    "    mode=modes[model][0][0]\n",
    "    if mode!=0:\n",
    "        df.loc[mask,'Size']=df.loc[mask,'Size'].fillna(mode)\n",
    "df['Size'].isnull().sum()\n",
    "\n",
    "df['Size'].fillna(df['Size'].mode()[0],inplace=True)\n",
    "df['Size'].isnull().sum()"
   ]
  },
  {
   "cell_type": "code",
   "execution_count": 178,
   "metadata": {
    "colab": {
     "base_uri": "https://localhost:8080/",
     "height": 35
    },
    "colab_type": "code",
    "id": "BshdNDSiV-CZ",
    "outputId": "307c6d52-46e5-4458-adec-9b41693ece1f"
   },
   "outputs": [
    {
     "data": {
      "text/plain": [
       "0"
      ]
     },
     "execution_count": 178,
     "metadata": {},
     "output_type": "execute_result"
    }
   ],
   "source": [
    "### HANDLING TOPTHREEAMERICANNAME - MISSING VALUES\n",
    "\n",
    "pd.set_option('display.max_rows',10000)\n",
    "subset=df[['Make','TopThreeAmericanName']]\n",
    "subset\n",
    "modes=subset.groupby('Make')['TopThreeAmericanName'].apply(stats.mode)\n",
    "modes\n",
    "\n",
    "pd.options.mode.chained_assignment=None\n",
    "make_without_top=df[df['TopThreeAmericanName'].isna()]['Make'].unique()\n",
    "make_without_top\n",
    "\n",
    "for make in make_without_top:\n",
    "    mask=(df['Make']==make)\n",
    "    mode=modes[make][0][0]\n",
    "    if mode!=0:\n",
    "        subset.loc[mask,'TopThreeAmericanName']=subset.loc[mask,'TopThreeAmericanName'].fillna(mode)\n",
    "subset['TopThreeAmericanName'].isnull().sum()\n",
    "\n",
    "for make in make_without_top:\n",
    "    mask=(df['Make']==make)\n",
    "    mode=modes[make][0][0]\n",
    "    if mode!=0:\n",
    "        df.loc[mask,'TopThreeAmericanName']=df.loc[mask,'TopThreeAmericanName'].fillna(mode)\n",
    "df['TopThreeAmericanName'].isnull().sum()"
   ]
  },
  {
   "cell_type": "code",
   "execution_count": 179,
   "metadata": {
    "colab": {
     "base_uri": "https://localhost:8080/",
     "height": 35
    },
    "colab_type": "code",
    "id": "Uq_naV6EV-Cf",
    "outputId": "f548a4b0-7861-4726-a3de-d4405d783a6d"
   },
   "outputs": [
    {
     "data": {
      "text/plain": [
       "0"
      ]
     },
     "execution_count": 179,
     "metadata": {},
     "output_type": "execute_result"
    }
   ],
   "source": [
    "### HANDLING MMR - MISSING VALUES\n",
    "\n",
    "df['MMRAcquisitionAuctionAveragePrice'].fillna(df['MMRAcquisitionAuctionAveragePrice'].median(),inplace=True)\n",
    "df['MMRAcquisitionAuctionAveragePrice'].isnull().sum()\n",
    "\n",
    "df['MMRAcquisitionAuctionCleanPrice'].fillna(df['MMRAcquisitionAuctionCleanPrice'].median(),inplace=True)\n",
    "df['MMRAcquisitionAuctionCleanPrice'].isnull().sum()\n",
    "\n",
    "df['MMRAcquisitionRetailAveragePrice'].fillna(df['MMRAcquisitionRetailAveragePrice'].median(),inplace=True)\n",
    "df['MMRAcquisitionRetailAveragePrice'].isnull().sum()\n",
    "\n",
    "df['MMRAcquisitonRetailCleanPrice'].fillna(df['MMRAcquisitonRetailCleanPrice'].median(),inplace=True)\n",
    "df['MMRAcquisitonRetailCleanPrice'].isnull().sum()\n",
    "\n",
    "df['MMRCurrentAuctionAveragePrice'].fillna(df['MMRCurrentAuctionAveragePrice'].median(),inplace=True)\n",
    "df['MMRCurrentAuctionAveragePrice'].isnull().sum()\n",
    "\n",
    "df['MMRCurrentAuctionCleanPrice'].fillna(df['MMRCurrentAuctionCleanPrice'].median(),inplace=True)\n",
    "df['MMRCurrentAuctionCleanPrice'].isnull().sum()\n",
    "\n",
    "df['MMRCurrentRetailAveragePrice'].fillna(df['MMRCurrentRetailAveragePrice'].median(),inplace=True)\n",
    "df['MMRCurrentRetailAveragePrice'].isnull().sum()\n",
    "\n",
    "df['MMRCurrentRetailCleanPrice'].fillna(df['MMRCurrentRetailCleanPrice'].median(),inplace=True)\n",
    "df['MMRCurrentRetailCleanPrice'].isnull().sum()"
   ]
  },
  {
   "cell_type": "code",
   "execution_count": 180,
   "metadata": {
    "colab": {
     "base_uri": "https://localhost:8080/",
     "height": 419
    },
    "colab_type": "code",
    "id": "dHp1LRKZV-Cy",
    "outputId": "7ab3951c-32a3-4224-c90b-8d22a5066212"
   },
   "outputs": [
    {
     "data": {
      "text/html": [
       "<div>\n",
       "<style scoped>\n",
       "    .dataframe tbody tr th:only-of-type {\n",
       "        vertical-align: middle;\n",
       "    }\n",
       "\n",
       "    .dataframe tbody tr th {\n",
       "        vertical-align: top;\n",
       "    }\n",
       "\n",
       "    .dataframe thead th {\n",
       "        text-align: right;\n",
       "    }\n",
       "</style>\n",
       "<table border=\"1\" class=\"dataframe\">\n",
       "  <thead>\n",
       "    <tr style=\"text-align: right;\">\n",
       "      <th></th>\n",
       "      <th>MMRAcquisitionAuctionAveragePrice</th>\n",
       "      <th>MMRAcquisitionAuctionCleanPrice</th>\n",
       "      <th>MMRAcquisitionRetailAveragePrice</th>\n",
       "      <th>MMRAcquisitonRetailCleanPrice</th>\n",
       "    </tr>\n",
       "  </thead>\n",
       "  <tbody>\n",
       "    <tr>\n",
       "      <td>0</td>\n",
       "      <td>696.0</td>\n",
       "      <td>1455.0</td>\n",
       "      <td>4040.0</td>\n",
       "      <td>4705.0</td>\n",
       "    </tr>\n",
       "    <tr>\n",
       "      <td>1</td>\n",
       "      <td>1480.0</td>\n",
       "      <td>2461.0</td>\n",
       "      <td>2418.0</td>\n",
       "      <td>3478.0</td>\n",
       "    </tr>\n",
       "    <tr>\n",
       "      <td>2</td>\n",
       "      <td>567.0</td>\n",
       "      <td>1080.0</td>\n",
       "      <td>3573.0</td>\n",
       "      <td>4152.0</td>\n",
       "    </tr>\n",
       "    <tr>\n",
       "      <td>3</td>\n",
       "      <td>92.0</td>\n",
       "      <td>1933.0</td>\n",
       "      <td>977.0</td>\n",
       "      <td>2966.0</td>\n",
       "    </tr>\n",
       "    <tr>\n",
       "      <td>4</td>\n",
       "      <td>-240.0</td>\n",
       "      <td>963.0</td>\n",
       "      <td>694.0</td>\n",
       "      <td>1994.0</td>\n",
       "    </tr>\n",
       "    <tr>\n",
       "      <td>...</td>\n",
       "      <td>...</td>\n",
       "      <td>...</td>\n",
       "      <td>...</td>\n",
       "      <td>...</td>\n",
       "    </tr>\n",
       "    <tr>\n",
       "      <td>58381</td>\n",
       "      <td>876.0</td>\n",
       "      <td>2617.0</td>\n",
       "      <td>4742.0</td>\n",
       "      <td>6557.0</td>\n",
       "    </tr>\n",
       "    <tr>\n",
       "      <td>58382</td>\n",
       "      <td>-279.0</td>\n",
       "      <td>620.0</td>\n",
       "      <td>3687.0</td>\n",
       "      <td>4455.0</td>\n",
       "    </tr>\n",
       "    <tr>\n",
       "      <td>58383</td>\n",
       "      <td>575.0</td>\n",
       "      <td>1746.0</td>\n",
       "      <td>4092.0</td>\n",
       "      <td>5303.0</td>\n",
       "    </tr>\n",
       "    <tr>\n",
       "      <td>58384</td>\n",
       "      <td>-1247.0</td>\n",
       "      <td>-210.0</td>\n",
       "      <td>2265.0</td>\n",
       "      <td>3171.0</td>\n",
       "    </tr>\n",
       "    <tr>\n",
       "      <td>58385</td>\n",
       "      <td>-1988.0</td>\n",
       "      <td>-1424.0</td>\n",
       "      <td>-1388.0</td>\n",
       "      <td>-779.0</td>\n",
       "    </tr>\n",
       "  </tbody>\n",
       "</table>\n",
       "<p>58386 rows × 4 columns</p>\n",
       "</div>"
      ],
      "text/plain": [
       "       MMRAcquisitionAuctionAveragePrice  MMRAcquisitionAuctionCleanPrice  \\\n",
       "0                                  696.0                           1455.0   \n",
       "1                                 1480.0                           2461.0   \n",
       "2                                  567.0                           1080.0   \n",
       "3                                   92.0                           1933.0   \n",
       "4                                 -240.0                            963.0   \n",
       "...                                  ...                              ...   \n",
       "58381                              876.0                           2617.0   \n",
       "58382                             -279.0                            620.0   \n",
       "58383                              575.0                           1746.0   \n",
       "58384                            -1247.0                           -210.0   \n",
       "58385                            -1988.0                          -1424.0   \n",
       "\n",
       "       MMRAcquisitionRetailAveragePrice  MMRAcquisitonRetailCleanPrice  \n",
       "0                                4040.0                         4705.0  \n",
       "1                                2418.0                         3478.0  \n",
       "2                                3573.0                         4152.0  \n",
       "3                                 977.0                         2966.0  \n",
       "4                                 694.0                         1994.0  \n",
       "...                                 ...                            ...  \n",
       "58381                            4742.0                         6557.0  \n",
       "58382                            3687.0                         4455.0  \n",
       "58383                            4092.0                         5303.0  \n",
       "58384                            2265.0                         3171.0  \n",
       "58385                           -1388.0                         -779.0  \n",
       "\n",
       "[58386 rows x 4 columns]"
      ]
     },
     "execution_count": 180,
     "metadata": {},
     "output_type": "execute_result"
    }
   ],
   "source": [
    "### DIFFERENCE BETWEEN MMR_ACQUISITION AND VEHBCOST\n",
    "\n",
    "mmrs=['MMRAcquisitionAuctionAveragePrice','MMRAcquisitionAuctionCleanPrice','MMRAcquisitionRetailAveragePrice','MMRAcquisitonRetailCleanPrice']\n",
    "mmrs\n",
    "for i in range(4):\n",
    "    df[mmrs[i]]=df[mmrs[i]]-df['VehBCost']\n",
    "df[mmrs]"
   ]
  },
  {
   "cell_type": "code",
   "execution_count": 181,
   "metadata": {
    "colab": {
     "base_uri": "https://localhost:8080/",
     "height": 419
    },
    "colab_type": "code",
    "id": "xqcdM1Y_V-C2",
    "outputId": "d7b5e6c5-2af1-4640-c72a-8cd8bc4214e6"
   },
   "outputs": [
    {
     "data": {
      "text/html": [
       "<div>\n",
       "<style scoped>\n",
       "    .dataframe tbody tr th:only-of-type {\n",
       "        vertical-align: middle;\n",
       "    }\n",
       "\n",
       "    .dataframe tbody tr th {\n",
       "        vertical-align: top;\n",
       "    }\n",
       "\n",
       "    .dataframe thead th {\n",
       "        text-align: right;\n",
       "    }\n",
       "</style>\n",
       "<table border=\"1\" class=\"dataframe\">\n",
       "  <thead>\n",
       "    <tr style=\"text-align: right;\">\n",
       "      <th></th>\n",
       "      <th>Difference_Acquisition_RCP</th>\n",
       "      <th>MMRAcquisitonRetailCleanPrice</th>\n",
       "    </tr>\n",
       "  </thead>\n",
       "  <tbody>\n",
       "    <tr>\n",
       "      <td>0</td>\n",
       "      <td>4705.0</td>\n",
       "      <td>4705.0</td>\n",
       "    </tr>\n",
       "    <tr>\n",
       "      <td>1</td>\n",
       "      <td>3478.0</td>\n",
       "      <td>3478.0</td>\n",
       "    </tr>\n",
       "    <tr>\n",
       "      <td>2</td>\n",
       "      <td>4152.0</td>\n",
       "      <td>4152.0</td>\n",
       "    </tr>\n",
       "    <tr>\n",
       "      <td>3</td>\n",
       "      <td>2966.0</td>\n",
       "      <td>2966.0</td>\n",
       "    </tr>\n",
       "    <tr>\n",
       "      <td>4</td>\n",
       "      <td>1994.0</td>\n",
       "      <td>1994.0</td>\n",
       "    </tr>\n",
       "    <tr>\n",
       "      <td>...</td>\n",
       "      <td>...</td>\n",
       "      <td>...</td>\n",
       "    </tr>\n",
       "    <tr>\n",
       "      <td>58381</td>\n",
       "      <td>6557.0</td>\n",
       "      <td>6557.0</td>\n",
       "    </tr>\n",
       "    <tr>\n",
       "      <td>58382</td>\n",
       "      <td>4455.0</td>\n",
       "      <td>4455.0</td>\n",
       "    </tr>\n",
       "    <tr>\n",
       "      <td>58383</td>\n",
       "      <td>5303.0</td>\n",
       "      <td>5303.0</td>\n",
       "    </tr>\n",
       "    <tr>\n",
       "      <td>58384</td>\n",
       "      <td>3171.0</td>\n",
       "      <td>3171.0</td>\n",
       "    </tr>\n",
       "    <tr>\n",
       "      <td>58385</td>\n",
       "      <td>-779.0</td>\n",
       "      <td>-779.0</td>\n",
       "    </tr>\n",
       "  </tbody>\n",
       "</table>\n",
       "<p>58386 rows × 2 columns</p>\n",
       "</div>"
      ],
      "text/plain": [
       "       Difference_Acquisition_RCP  MMRAcquisitonRetailCleanPrice\n",
       "0                          4705.0                         4705.0\n",
       "1                          3478.0                         3478.0\n",
       "2                          4152.0                         4152.0\n",
       "3                          2966.0                         2966.0\n",
       "4                          1994.0                         1994.0\n",
       "...                           ...                            ...\n",
       "58381                      6557.0                         6557.0\n",
       "58382                      4455.0                         4455.0\n",
       "58383                      5303.0                         5303.0\n",
       "58384                      3171.0                         3171.0\n",
       "58385                      -779.0                         -779.0\n",
       "\n",
       "[58386 rows x 2 columns]"
      ]
     },
     "execution_count": 181,
     "metadata": {},
     "output_type": "execute_result"
    }
   ],
   "source": [
    "### DIFFERENCE VARIABLES_ACQUISITION\n",
    "\n",
    "df['Difference_Acquisition_AAP']=df['MMRAcquisitionAuctionAveragePrice']\n",
    "df['Difference_Acquisition_ACP']=df['MMRAcquisitionAuctionCleanPrice']\n",
    "df['Difference_Acquisition_RAP']=df['MMRAcquisitionRetailAveragePrice']\n",
    "df['Difference_Acquisition_RCP']=df['MMRAcquisitonRetailCleanPrice']\n",
    "df[['Difference_Acquisition_RCP','MMRAcquisitonRetailCleanPrice']]"
   ]
  },
  {
   "cell_type": "code",
   "execution_count": 182,
   "metadata": {
    "colab": {},
    "colab_type": "code",
    "id": "zg8ZqKZ2pc-S"
   },
   "outputs": [],
   "source": [
    "### MAX POSSIBLE MARKUP RESULTING FROM SALES_ACQUISITION\n",
    "\n",
    "df['Markup_Acquisition_AP_max']=df['Difference_Acquisition_AAP']+df['Difference_Acquisition_RAP']\n",
    "df['Markup_Acquisition_CP_max']=df['Difference_Acquisition_ACP']+df['Difference_Acquisition_RCP']"
   ]
  },
  {
   "cell_type": "code",
   "execution_count": 183,
   "metadata": {
    "colab": {
     "base_uri": "https://localhost:8080/",
     "height": 35
    },
    "colab_type": "code",
    "id": "F863xiXekNGY",
    "outputId": "285500a9-1bca-4369-a89f-5ede1a011738"
   },
   "outputs": [
    {
     "data": {
      "text/plain": [
       "(33725, 4155, 3053, 17453)"
      ]
     },
     "execution_count": 183,
     "metadata": {},
     "output_type": "execute_result"
    }
   ],
   "source": [
    "df1 = df[((df['Difference_Acquisition_AAP']+df['Difference_Acquisition_RAP']) >= 0)]\n",
    "df2 = df[((df['Difference_Acquisition_AAP']+df['Difference_Acquisition_RAP']) < 0)]\n",
    "# b = (((df['Difference_Acquisition_AAP']+df['Difference_Acquisition_RAP']) < 0) == (df['IsBadBuy'] == 0)).sum()\n",
    "\n",
    "(\n",
    "    (df1['IsBadBuy'] == 0).sum(), (df1['IsBadBuy'] != 0).sum(),\n",
    "    (df2['IsBadBuy'] == 1).sum(), (df2['IsBadBuy'] != 1).sum()\n",
    ")\n",
    "# df1.count()\n"
   ]
  },
  {
   "cell_type": "code",
   "execution_count": 184,
   "metadata": {
    "colab": {
     "base_uri": "https://localhost:8080/",
     "height": 419
    },
    "colab_type": "code",
    "id": "_pzGyUhzGP7T",
    "outputId": "cb11fb18-44f5-4c8c-b164-63c5a7caf663"
   },
   "outputs": [
    {
     "data": {
      "text/html": [
       "<div>\n",
       "<style scoped>\n",
       "    .dataframe tbody tr th:only-of-type {\n",
       "        vertical-align: middle;\n",
       "    }\n",
       "\n",
       "    .dataframe tbody tr th {\n",
       "        vertical-align: top;\n",
       "    }\n",
       "\n",
       "    .dataframe thead th {\n",
       "        text-align: right;\n",
       "    }\n",
       "</style>\n",
       "<table border=\"1\" class=\"dataframe\">\n",
       "  <thead>\n",
       "    <tr style=\"text-align: right;\">\n",
       "      <th></th>\n",
       "      <th>PurchDate</th>\n",
       "      <th>PurchYear</th>\n",
       "    </tr>\n",
       "  </thead>\n",
       "  <tbody>\n",
       "    <tr>\n",
       "      <td>0</td>\n",
       "      <td>10/25/2010</td>\n",
       "      <td>2010</td>\n",
       "    </tr>\n",
       "    <tr>\n",
       "      <td>1</td>\n",
       "      <td>5/27/2009</td>\n",
       "      <td>2009</td>\n",
       "    </tr>\n",
       "    <tr>\n",
       "      <td>2</td>\n",
       "      <td>3/18/2010</td>\n",
       "      <td>2010</td>\n",
       "    </tr>\n",
       "    <tr>\n",
       "      <td>3</td>\n",
       "      <td>6/8/2009</td>\n",
       "      <td>2009</td>\n",
       "    </tr>\n",
       "    <tr>\n",
       "      <td>4</td>\n",
       "      <td>3/4/2009</td>\n",
       "      <td>2009</td>\n",
       "    </tr>\n",
       "    <tr>\n",
       "      <td>...</td>\n",
       "      <td>...</td>\n",
       "      <td>...</td>\n",
       "    </tr>\n",
       "    <tr>\n",
       "      <td>58381</td>\n",
       "      <td>3/9/2010</td>\n",
       "      <td>2010</td>\n",
       "    </tr>\n",
       "    <tr>\n",
       "      <td>58382</td>\n",
       "      <td>1/26/2010</td>\n",
       "      <td>2010</td>\n",
       "    </tr>\n",
       "    <tr>\n",
       "      <td>58383</td>\n",
       "      <td>10/28/2010</td>\n",
       "      <td>2010</td>\n",
       "    </tr>\n",
       "    <tr>\n",
       "      <td>58384</td>\n",
       "      <td>12/1/2010</td>\n",
       "      <td>2010</td>\n",
       "    </tr>\n",
       "    <tr>\n",
       "      <td>58385</td>\n",
       "      <td>10/8/2009</td>\n",
       "      <td>2009</td>\n",
       "    </tr>\n",
       "  </tbody>\n",
       "</table>\n",
       "<p>58386 rows × 2 columns</p>\n",
       "</div>"
      ],
      "text/plain": [
       "        PurchDate  PurchYear\n",
       "0      10/25/2010       2010\n",
       "1       5/27/2009       2009\n",
       "2       3/18/2010       2010\n",
       "3        6/8/2009       2009\n",
       "4        3/4/2009       2009\n",
       "...           ...        ...\n",
       "58381    3/9/2010       2010\n",
       "58382   1/26/2010       2010\n",
       "58383  10/28/2010       2010\n",
       "58384   12/1/2010       2010\n",
       "58385   10/8/2009       2009\n",
       "\n",
       "[58386 rows x 2 columns]"
      ]
     },
     "execution_count": 184,
     "metadata": {},
     "output_type": "execute_result"
    }
   ],
   "source": [
    "df['PurchYear']=[int(purch_date.split('/')[2]) for purch_date in df['PurchDate']]\n",
    "df[['PurchDate', 'PurchYear']]"
   ]
  },
  {
   "cell_type": "code",
   "execution_count": 185,
   "metadata": {
    "colab": {},
    "colab_type": "code",
    "id": "hbMp1pwEV-Cl"
   },
   "outputs": [],
   "source": [
    "### VARIATION RATE (RATE OF CHANGE, ROC) - MMR\n",
    "\n",
    "df['Variation_rate_AAP']=df['MMRCurrentAuctionAveragePrice']/df['MMRAcquisitionAuctionAveragePrice']\n",
    "df['Variation_rate_ACP']=df['MMRCurrentAuctionCleanPrice']/df['MMRAcquisitionAuctionCleanPrice']\n",
    "df['Variation_rate_RAP']=df['MMRCurrentRetailAveragePrice']/df['MMRAcquisitionRetailAveragePrice']\n",
    "df['Variation_rate_RCP']=df['MMRCurrentRetailCleanPrice']/df['MMRAcquisitonRetailCleanPrice']\n",
    "\n",
    "# list(df['Variation_rate_AAP']) + list(df['Variation_rate_ACP']) + list(df['Variation_rate_RAP']) + list(df['Variation_rate_RCP']).mean()\n",
    "\n",
    "df['Variation_rate_mean']=df[['Variation_rate_AAP', 'Variation_rate_ACP', 'Variation_rate_RAP', 'Variation_rate_RCP']].transpose().mean()\n"
   ]
  },
  {
   "cell_type": "code",
   "execution_count": 186,
   "metadata": {
    "colab": {},
    "colab_type": "code",
    "id": "7lnygmCUVEmo"
   },
   "outputs": [],
   "source": [
    "### CURRENT VEHBCOST RESULTING FROM AVERAGE ROC\n",
    "\n",
    "df['VehBCost_Current']=df['Variation_rate_mean']*df['VehBCost']"
   ]
  },
  {
   "cell_type": "code",
   "execution_count": 187,
   "metadata": {
    "colab": {
     "base_uri": "https://localhost:8080/",
     "height": 419
    },
    "colab_type": "code",
    "id": "767jYwOsXJQT",
    "outputId": "0438c104-7e56-4a29-acdf-af721922c23a"
   },
   "outputs": [
    {
     "data": {
      "text/html": [
       "<div>\n",
       "<style scoped>\n",
       "    .dataframe tbody tr th:only-of-type {\n",
       "        vertical-align: middle;\n",
       "    }\n",
       "\n",
       "    .dataframe tbody tr th {\n",
       "        vertical-align: top;\n",
       "    }\n",
       "\n",
       "    .dataframe thead th {\n",
       "        text-align: right;\n",
       "    }\n",
       "</style>\n",
       "<table border=\"1\" class=\"dataframe\">\n",
       "  <thead>\n",
       "    <tr style=\"text-align: right;\">\n",
       "      <th></th>\n",
       "      <th>MMRCurrentAuctionAveragePrice</th>\n",
       "      <th>MMRCurrentAuctionCleanPrice</th>\n",
       "      <th>MMRCurrentRetailAveragePrice</th>\n",
       "      <th>MMRCurrentRetailCleanPrice</th>\n",
       "    </tr>\n",
       "  </thead>\n",
       "  <tbody>\n",
       "    <tr>\n",
       "      <td>0</td>\n",
       "      <td>528.0</td>\n",
       "      <td>1435.0</td>\n",
       "      <td>3505.0</td>\n",
       "      <td>4550.0</td>\n",
       "    </tr>\n",
       "    <tr>\n",
       "      <td>1</td>\n",
       "      <td>1480.0</td>\n",
       "      <td>2461.0</td>\n",
       "      <td>2418.0</td>\n",
       "      <td>3478.0</td>\n",
       "    </tr>\n",
       "    <tr>\n",
       "      <td>2</td>\n",
       "      <td>-3.0</td>\n",
       "      <td>602.0</td>\n",
       "      <td>3221.0</td>\n",
       "      <td>3850.0</td>\n",
       "    </tr>\n",
       "    <tr>\n",
       "      <td>3</td>\n",
       "      <td>92.0</td>\n",
       "      <td>1933.0</td>\n",
       "      <td>977.0</td>\n",
       "      <td>2966.0</td>\n",
       "    </tr>\n",
       "    <tr>\n",
       "      <td>4</td>\n",
       "      <td>-300.0</td>\n",
       "      <td>1141.0</td>\n",
       "      <td>630.0</td>\n",
       "      <td>2186.0</td>\n",
       "    </tr>\n",
       "    <tr>\n",
       "      <td>...</td>\n",
       "      <td>...</td>\n",
       "      <td>...</td>\n",
       "      <td>...</td>\n",
       "      <td>...</td>\n",
       "    </tr>\n",
       "    <tr>\n",
       "      <td>58381</td>\n",
       "      <td>838.0</td>\n",
       "      <td>2355.0</td>\n",
       "      <td>4120.0</td>\n",
       "      <td>5557.0</td>\n",
       "    </tr>\n",
       "    <tr>\n",
       "      <td>58382</td>\n",
       "      <td>-29.0</td>\n",
       "      <td>944.0</td>\n",
       "      <td>3711.0</td>\n",
       "      <td>4503.0</td>\n",
       "    </tr>\n",
       "    <tr>\n",
       "      <td>58383</td>\n",
       "      <td>421.0</td>\n",
       "      <td>1642.0</td>\n",
       "      <td>3120.0</td>\n",
       "      <td>4695.0</td>\n",
       "    </tr>\n",
       "    <tr>\n",
       "      <td>58384</td>\n",
       "      <td>-1460.0</td>\n",
       "      <td>-459.0</td>\n",
       "      <td>1654.0</td>\n",
       "      <td>2911.0</td>\n",
       "    </tr>\n",
       "    <tr>\n",
       "      <td>58385</td>\n",
       "      <td>-1769.0</td>\n",
       "      <td>-1308.0</td>\n",
       "      <td>-1151.0</td>\n",
       "      <td>-653.0</td>\n",
       "    </tr>\n",
       "  </tbody>\n",
       "</table>\n",
       "<p>58386 rows × 4 columns</p>\n",
       "</div>"
      ],
      "text/plain": [
       "       MMRCurrentAuctionAveragePrice  MMRCurrentAuctionCleanPrice  \\\n",
       "0                              528.0                       1435.0   \n",
       "1                             1480.0                       2461.0   \n",
       "2                               -3.0                        602.0   \n",
       "3                               92.0                       1933.0   \n",
       "4                             -300.0                       1141.0   \n",
       "...                              ...                          ...   \n",
       "58381                          838.0                       2355.0   \n",
       "58382                          -29.0                        944.0   \n",
       "58383                          421.0                       1642.0   \n",
       "58384                        -1460.0                       -459.0   \n",
       "58385                        -1769.0                      -1308.0   \n",
       "\n",
       "       MMRCurrentRetailAveragePrice  MMRCurrentRetailCleanPrice  \n",
       "0                            3505.0                      4550.0  \n",
       "1                            2418.0                      3478.0  \n",
       "2                            3221.0                      3850.0  \n",
       "3                             977.0                      2966.0  \n",
       "4                             630.0                      2186.0  \n",
       "...                             ...                         ...  \n",
       "58381                        4120.0                      5557.0  \n",
       "58382                        3711.0                      4503.0  \n",
       "58383                        3120.0                      4695.0  \n",
       "58384                        1654.0                      2911.0  \n",
       "58385                       -1151.0                      -653.0  \n",
       "\n",
       "[58386 rows x 4 columns]"
      ]
     },
     "execution_count": 187,
     "metadata": {},
     "output_type": "execute_result"
    }
   ],
   "source": [
    "###### DIFFERENCE BETWEEN MMR_CURRENT AND VEHBCOST\n",
    "\n",
    "mmrs=['MMRCurrentAuctionAveragePrice','MMRCurrentAuctionCleanPrice','MMRCurrentRetailAveragePrice','MMRCurrentRetailCleanPrice']\n",
    "mmrs\n",
    "for i in range(4):\n",
    "    df[mmrs[i]]=df[mmrs[i]]-df['VehBCost']\n",
    "df[mmrs]"
   ]
  },
  {
   "cell_type": "code",
   "execution_count": 188,
   "metadata": {
    "colab": {
     "base_uri": "https://localhost:8080/",
     "height": 419
    },
    "colab_type": "code",
    "id": "Aa-bURbYoA8F",
    "outputId": "bbb06213-af99-480f-c443-233318fa6a08"
   },
   "outputs": [
    {
     "data": {
      "text/html": [
       "<div>\n",
       "<style scoped>\n",
       "    .dataframe tbody tr th:only-of-type {\n",
       "        vertical-align: middle;\n",
       "    }\n",
       "\n",
       "    .dataframe tbody tr th {\n",
       "        vertical-align: top;\n",
       "    }\n",
       "\n",
       "    .dataframe thead th {\n",
       "        text-align: right;\n",
       "    }\n",
       "</style>\n",
       "<table border=\"1\" class=\"dataframe\">\n",
       "  <thead>\n",
       "    <tr style=\"text-align: right;\">\n",
       "      <th></th>\n",
       "      <th>Difference_Current_RCP</th>\n",
       "      <th>MMRCurrentRetailCleanPrice</th>\n",
       "    </tr>\n",
       "  </thead>\n",
       "  <tbody>\n",
       "    <tr>\n",
       "      <td>0</td>\n",
       "      <td>4550.0</td>\n",
       "      <td>4550.0</td>\n",
       "    </tr>\n",
       "    <tr>\n",
       "      <td>1</td>\n",
       "      <td>3478.0</td>\n",
       "      <td>3478.0</td>\n",
       "    </tr>\n",
       "    <tr>\n",
       "      <td>2</td>\n",
       "      <td>3850.0</td>\n",
       "      <td>3850.0</td>\n",
       "    </tr>\n",
       "    <tr>\n",
       "      <td>3</td>\n",
       "      <td>2966.0</td>\n",
       "      <td>2966.0</td>\n",
       "    </tr>\n",
       "    <tr>\n",
       "      <td>4</td>\n",
       "      <td>2186.0</td>\n",
       "      <td>2186.0</td>\n",
       "    </tr>\n",
       "    <tr>\n",
       "      <td>...</td>\n",
       "      <td>...</td>\n",
       "      <td>...</td>\n",
       "    </tr>\n",
       "    <tr>\n",
       "      <td>58381</td>\n",
       "      <td>5557.0</td>\n",
       "      <td>5557.0</td>\n",
       "    </tr>\n",
       "    <tr>\n",
       "      <td>58382</td>\n",
       "      <td>4503.0</td>\n",
       "      <td>4503.0</td>\n",
       "    </tr>\n",
       "    <tr>\n",
       "      <td>58383</td>\n",
       "      <td>4695.0</td>\n",
       "      <td>4695.0</td>\n",
       "    </tr>\n",
       "    <tr>\n",
       "      <td>58384</td>\n",
       "      <td>2911.0</td>\n",
       "      <td>2911.0</td>\n",
       "    </tr>\n",
       "    <tr>\n",
       "      <td>58385</td>\n",
       "      <td>-653.0</td>\n",
       "      <td>-653.0</td>\n",
       "    </tr>\n",
       "  </tbody>\n",
       "</table>\n",
       "<p>58386 rows × 2 columns</p>\n",
       "</div>"
      ],
      "text/plain": [
       "       Difference_Current_RCP  MMRCurrentRetailCleanPrice\n",
       "0                      4550.0                      4550.0\n",
       "1                      3478.0                      3478.0\n",
       "2                      3850.0                      3850.0\n",
       "3                      2966.0                      2966.0\n",
       "4                      2186.0                      2186.0\n",
       "...                       ...                         ...\n",
       "58381                  5557.0                      5557.0\n",
       "58382                  4503.0                      4503.0\n",
       "58383                  4695.0                      4695.0\n",
       "58384                  2911.0                      2911.0\n",
       "58385                  -653.0                      -653.0\n",
       "\n",
       "[58386 rows x 2 columns]"
      ]
     },
     "execution_count": 188,
     "metadata": {},
     "output_type": "execute_result"
    }
   ],
   "source": [
    "### ### DIFFERENCE VARIABLES_CURRENT\n",
    "\n",
    "df['Difference_Current_AAP']=df['MMRCurrentAuctionAveragePrice']\n",
    "df['Difference_Current_ACP']=df['MMRCurrentAuctionCleanPrice']\n",
    "df['Difference_Current_RAP']=df['MMRCurrentRetailAveragePrice']\n",
    "df['Difference_Current_RCP']=df['MMRCurrentRetailCleanPrice']\n",
    "df[['Difference_Current_RCP','MMRCurrentRetailCleanPrice']]"
   ]
  },
  {
   "cell_type": "code",
   "execution_count": 189,
   "metadata": {
    "colab": {},
    "colab_type": "code",
    "id": "e7a3BldEXJhn"
   },
   "outputs": [],
   "source": [
    "### MAX POSSIBLE MARKUP RESULTING FROM SALES_CURRENT\n",
    "\n",
    "df['Markup_Current_AP_max']=df['Difference_Current_AAP']+df['Difference_Current_RAP']\n",
    "df['Markup_Current_CP_max']=df['Difference_Current_ACP']+df['Difference_Current_RCP']"
   ]
  },
  {
   "cell_type": "code",
   "execution_count": 190,
   "metadata": {
    "colab": {
     "base_uri": "https://localhost:8080/",
     "height": 341
    },
    "colab_type": "code",
    "id": "pHFCmaoqSneK",
    "outputId": "36c968fc-ee61-4a6a-dcc3-f0f2d9076ea9"
   },
   "outputs": [
    {
     "data": {
      "text/plain": [
       "Index(['RefId', 'IsBadBuy', 'PurchDate', 'Auction', 'VehYear', 'VehicleAge',\n",
       "       'Make', 'Model', 'Trim', 'SubModel', 'Color', 'Transmission',\n",
       "       'WheelTypeID', 'WheelType', 'VehOdo', 'Nationality', 'Size',\n",
       "       'TopThreeAmericanName', 'MMRAcquisitionAuctionAveragePrice',\n",
       "       'MMRAcquisitionAuctionCleanPrice', 'MMRAcquisitionRetailAveragePrice',\n",
       "       'MMRAcquisitonRetailCleanPrice', 'MMRCurrentAuctionAveragePrice',\n",
       "       'MMRCurrentAuctionCleanPrice', 'MMRCurrentRetailAveragePrice',\n",
       "       'MMRCurrentRetailCleanPrice', 'PRIMEUNIT', 'AUCGUART', 'BYRNO',\n",
       "       'VNZIP1', 'VNST', 'VehBCost', 'IsOnlineSale', 'WarrantyCost',\n",
       "       'Difference_Acquisition_AAP', 'Difference_Acquisition_ACP',\n",
       "       'Difference_Acquisition_RAP', 'Difference_Acquisition_RCP',\n",
       "       'Markup_Acquisition_AP_max', 'Markup_Acquisition_CP_max', 'PurchYear',\n",
       "       'Variation_rate_AAP', 'Variation_rate_ACP', 'Variation_rate_RAP',\n",
       "       'Variation_rate_RCP', 'Variation_rate_mean', 'VehBCost_Current',\n",
       "       'Difference_Current_AAP', 'Difference_Current_ACP',\n",
       "       'Difference_Current_RAP', 'Difference_Current_RCP',\n",
       "       'Markup_Current_AP_max', 'Markup_Current_CP_max'],\n",
       "      dtype='object')"
      ]
     },
     "execution_count": 190,
     "metadata": {},
     "output_type": "execute_result"
    }
   ],
   "source": [
    "df.columns"
   ]
  },
  {
   "cell_type": "code",
   "execution_count": 191,
   "metadata": {
    "colab": {},
    "colab_type": "code",
    "id": "Nm78Rfi0V-C6"
   },
   "outputs": [],
   "source": [
    "#df.drop(mmrs, axis='columns', inplace=True)\n",
    "#df.drop(['MMRCurrentAuctionAveragePrice','MMRCurrentAuctionCleanPrice','MMRCurrentRetailAveragePrice','MMRCurrentRetailCleanPrice'], axis='columns',inplace=True)"
   ]
  },
  {
   "cell_type": "code",
   "execution_count": 192,
   "metadata": {
    "colab": {
     "base_uri": "https://localhost:8080/",
     "height": 71
    },
    "colab_type": "code",
    "id": "OkptxggEV-DF",
    "outputId": "38ca603e-6875-4552-f6c8-f4d61efc887d"
   },
   "outputs": [
    {
     "data": {
      "text/plain": [
       "1    56338\n",
       "0     2048\n",
       "Name: Transmission, dtype: int64"
      ]
     },
     "execution_count": 192,
     "metadata": {},
     "output_type": "execute_result"
    }
   ],
   "source": [
    "#### 1='AUTO' e 0='MANUAL'\n",
    "df['Transmission'].replace({'MANUAL':0},inplace=True)\n",
    "df['Transmission'].replace({'AUTO':1},inplace=True)\n",
    "df['Transmission'].value_counts()"
   ]
  },
  {
   "cell_type": "code",
   "execution_count": 193,
   "metadata": {
    "colab": {
     "base_uri": "https://localhost:8080/",
     "height": 71
    },
    "colab_type": "code",
    "id": "AfB1xO-jV-DK",
    "outputId": "8414bd7b-de6f-4561-b74c-afcc1b524a9f"
   },
   "outputs": [
    {
     "data": {
      "text/plain": [
       "1    48804\n",
       "0     9582\n",
       "Name: TopThreeAmericanName, dtype: int64"
      ]
     },
     "execution_count": 193,
     "metadata": {},
     "output_type": "execute_result"
    }
   ],
   "source": [
    "### Top3=1 e OTHER=0\n",
    "df['TopThreeAmericanName'].replace({'CHRYSLER':'American Top3'},inplace=True)\n",
    "df['TopThreeAmericanName'].replace({'FORD':'American Top3'},inplace=True)\n",
    "df['TopThreeAmericanName'].replace({'GM':'American Top3'},inplace=True)\n",
    "df['TopThreeAmericanName'].value_counts()\n",
    "df['TopThreeAmericanName'].replace({'American Top3':1},inplace=True)\n",
    "df['TopThreeAmericanName'].replace({'OTHER':0},inplace=True)\n",
    "df['TopThreeAmericanName'].value_counts()"
   ]
  },
  {
   "cell_type": "code",
   "execution_count": 194,
   "metadata": {},
   "outputs": [
    {
     "data": {
      "text/plain": [
       "array(['MEDIUM', 'VAN', 'MEDIUM SUV', 'LARGE', 'SPORTS', 'LARGE TRUCK',\n",
       "       'COMPACT', 'LARGE SUV', 'SPECIALTY', 'CROSSOVER', 'SMALL SUV',\n",
       "       'SMALL TRUCK'], dtype=object)"
      ]
     },
     "execution_count": 194,
     "metadata": {},
     "output_type": "execute_result"
    }
   ],
   "source": [
    "df['Size'].unique()"
   ]
  },
  {
   "cell_type": "code",
   "execution_count": null,
   "metadata": {},
   "outputs": [],
   "source": []
  },
  {
   "cell_type": "code",
   "execution_count": 195,
   "metadata": {},
   "outputs": [
    {
     "data": {
      "text/plain": [
       "1     24645\n",
       "3      7120\n",
       "5      6399\n",
       "0      5764\n",
       "2      4677\n",
       "9      2554\n",
       "4      1807\n",
       "11     1527\n",
       "7      1419\n",
       "6      1157\n",
       "8       696\n",
       "10      621\n",
       "Name: Size, dtype: int64"
      ]
     },
     "execution_count": 195,
     "metadata": {},
     "output_type": "execute_result"
    }
   ],
   "source": [
    "### Size \n",
    "df['Size'].replace({'COMPACT':0},inplace=True)\n",
    "df['Size'].replace({'MEDIUM':1},inplace=True)\n",
    "df['Size'].replace({'VAN':2},inplace=True)\n",
    "df['Size'].replace({'LARGE':3},inplace=True)\n",
    "df['Size'].replace({'SMALL SUV':4},inplace=True)\n",
    "df['Size'].replace({'MEDIUM SUV':5},inplace=True)\n",
    "df['Size'].replace({'LARGE SUV':6},inplace=True)\n",
    "df['Size'].replace({'CROSSOVER':7},inplace=True)\n",
    "df['Size'].replace({'SMALL TRUCK':8},inplace=True)\n",
    "df['Size'].replace({'LARGE TRUCK':9},inplace=True)\n",
    "df['Size'].replace({'SPORTS':10},inplace=True)\n",
    "df['Size'].replace({'SPECIALTY':11},inplace=True)\n",
    "\n",
    "\n",
    "df['Size'].value_counts()"
   ]
  },
  {
   "cell_type": "code",
   "execution_count": 2,
   "metadata": {
    "colab": {
     "base_uri": "https://localhost:8080/",
     "height": 251
    },
    "colab_type": "code",
    "id": "wy7qgis2J0Vx",
    "outputId": "68944b76-cc72-45b1-836a-2d217353890d"
   },
   "outputs": [
    {
     "ename": "NameError",
     "evalue": "name 'df' is not defined",
     "output_type": "error",
     "traceback": [
      "\u001b[0;31m---------------------------------------------------------------------------\u001b[0m",
      "\u001b[0;31mNameError\u001b[0m                                 Traceback (most recent call last)",
      "\u001b[0;32m<ipython-input-2-3dd18ccf76b7>\u001b[0m in \u001b[0;36m<module>\u001b[0;34m\u001b[0m\n\u001b[1;32m      4\u001b[0m \u001b[0mscaler\u001b[0m\u001b[0;34m=\u001b[0m\u001b[0mMinMaxScaler\u001b[0m\u001b[0;34m(\u001b[0m\u001b[0;34m)\u001b[0m\u001b[0;34m\u001b[0m\u001b[0;34m\u001b[0m\u001b[0m\n\u001b[1;32m      5\u001b[0m \u001b[0mnumerical\u001b[0m \u001b[0;34m=\u001b[0m \u001b[0;34m[\u001b[0m\u001b[0;34m'VehicleAge'\u001b[0m\u001b[0;34m,\u001b[0m\u001b[0;34m'Size'\u001b[0m\u001b[0;34m,\u001b[0m\u001b[0;34m'VehOdo'\u001b[0m\u001b[0;34m,\u001b[0m \u001b[0;34m'VehBCost'\u001b[0m\u001b[0;34m,\u001b[0m\u001b[0;34m'Markup_Acquisition_AP_max'\u001b[0m\u001b[0;34m,\u001b[0m\u001b[0;34m'Markup_Acquisition_CP_max'\u001b[0m\u001b[0;34m,\u001b[0m\u001b[0;34m'Markup_Current_AP_max'\u001b[0m\u001b[0;34m,\u001b[0m\u001b[0;34m'Markup_Current_CP_max'\u001b[0m\u001b[0;34m,\u001b[0m\u001b[0;34m'WarrantyCost'\u001b[0m\u001b[0;34m]\u001b[0m\u001b[0;34m\u001b[0m\u001b[0;34m\u001b[0m\u001b[0m\n\u001b[0;32m----> 6\u001b[0;31m \u001b[0mX\u001b[0m\u001b[0;34m=\u001b[0m\u001b[0mscaler\u001b[0m\u001b[0;34m.\u001b[0m\u001b[0mfit\u001b[0m\u001b[0;34m(\u001b[0m\u001b[0mdf\u001b[0m\u001b[0;34m[\u001b[0m\u001b[0mnumerical\u001b[0m\u001b[0;34m]\u001b[0m\u001b[0;34m.\u001b[0m\u001b[0mvalues\u001b[0m\u001b[0;34m)\u001b[0m\u001b[0;34m\u001b[0m\u001b[0;34m\u001b[0m\u001b[0m\n\u001b[0m\u001b[1;32m      7\u001b[0m \u001b[0mle\u001b[0m\u001b[0;34m.\u001b[0m\u001b[0mtransform\u001b[0m\u001b[0;34m(\u001b[0m\u001b[0mX\u001b[0m\u001b[0;34m)\u001b[0m\u001b[0;34m\u001b[0m\u001b[0;34m\u001b[0m\u001b[0m\n\u001b[1;32m      8\u001b[0m \u001b[0;34m\u001b[0m\u001b[0m\n",
      "\u001b[0;31mNameError\u001b[0m: name 'df' is not defined"
     ]
    }
   ],
   "source": [
    "### Trasformazioni variabili numeriche\n",
    "\n",
    "from sklearn.preprocessing import MinMaxScaler\n",
    "scaler=MinMaxScaler()\n",
    "numerical = ['VehicleAge','Size','VehOdo', 'VehBCost','Markup_Acquisition_AP_max','Markup_Acquisition_CP_max','Markup_Current_AP_max','Markup_Current_CP_max','WarrantyCost']\n",
    "X=scaler.fit_transform(df[numerical].values)\n",
    "\n",
    "# numerical_filtered = ['VehOdo','Markup_Acquisition_AP_max','Markup_Acquisition_CP_max','Markup_Current_AP_max','Markup_Current_CP_max']\n",
    "# X_filtered=scaler.fit_transform(df[numerical_filtered].values)\n",
    "# X = X_filtered\n",
    "X"
   ]
  },
  {
   "cell_type": "code",
   "execution_count": null,
   "metadata": {},
   "outputs": [],
   "source": []
  },
  {
   "cell_type": "markdown",
   "metadata": {},
   "source": [
    "### Classification Preprocessing"
   ]
  },
  {
   "cell_type": "code",
   "execution_count": null,
   "metadata": {},
   "outputs": [],
   "source": [
    "label_encoders = dict()\n",
    "column2encode = ['Sex', 'Embarked']\n",
    "\n",
    "for col in column2encode:\n",
    "    le = LabelEncoder()\n",
    "    df[col] = le.fit_transform(df[col])\n",
    "    label_encoders[col] = le"
   ]
  },
  {
   "cell_type": "code",
   "execution_count": 197,
   "metadata": {},
   "outputs": [],
   "source": [
    "attributes = [col for col in df.columns if col != 'IsBadBuy']\n",
    "y = df['IsBadBuy']\n",
    "numerical = ['VehicleAge','Size','VehOdo', 'VehBCost','Markup_Acquisition_AP_max','Markup_Acquisition_CP_max','Markup_Current_AP_max','Markup_Current_CP_max','WarrantyCost']\n",
    "X=scaler.fit_transform(df[numerical].values)"
   ]
  },
  {
   "cell_type": "code",
   "execution_count": 198,
   "metadata": {},
   "outputs": [],
   "source": [
    "from sklearn.tree import DecisionTreeClassifier\n",
    "from sklearn.model_selection import RandomizedSearchCV"
   ]
  },
  {
   "cell_type": "code",
   "execution_count": 199,
   "metadata": {},
   "outputs": [],
   "source": [
    "def report(results, n_top=3):\n",
    "    for i in range(1, n_top + 1):\n",
    "        candidates = np.flatnonzero(results['rank_test_score'] == i)\n",
    "        for candidate in candidates:\n",
    "            print(\"Model with rank: {0}\".format(i))\n",
    "            print(\"Mean validation score: {0:.3f} (std: {1:.3f})\".format(\n",
    "                  results['mean_test_score'][candidate],\n",
    "                  results['std_test_score'][candidate]))\n",
    "            print(\"Parameters: {0}\".format(results['params'][candidate]))\n",
    "            print(\"\")"
   ]
  },
  {
   "cell_type": "code",
   "execution_count": 296,
   "metadata": {},
   "outputs": [
    {
     "name": "stderr",
     "output_type": "stream",
     "text": [
      "/Users/danieletribuzio/opt/anaconda3/lib/python3.7/site-packages/sklearn/model_selection/_split.py:1978: FutureWarning: The default value of cv will change from 3 to 5 in version 0.22. Specify it explicitly to silence this warning.\n",
      "  warnings.warn(CV_WARNING, FutureWarning)\n"
     ]
    },
    {
     "name": "stdout",
     "output_type": "stream",
     "text": [
      "Model with rank: 1\n",
      "Mean validation score: 0.877 (std: 0.000)\n",
      "Parameters: {'min_samples_split': 100, 'min_samples_leaf': 5, 'max_depth': 3}\n",
      "\n",
      "Model with rank: 1\n",
      "Mean validation score: 0.877 (std: 0.000)\n",
      "Parameters: {'min_samples_split': 2, 'min_samples_leaf': 10, 'max_depth': 3}\n",
      "\n",
      "Model with rank: 3\n",
      "Mean validation score: 0.877 (std: 0.000)\n",
      "Parameters: {'min_samples_split': 30, 'min_samples_leaf': 20, 'max_depth': 3}\n",
      "\n",
      "Model with rank: 3\n",
      "Mean validation score: 0.877 (std: 0.000)\n",
      "Parameters: {'min_samples_split': 50, 'min_samples_leaf': 20, 'max_depth': 3}\n",
      "\n"
     ]
    }
   ],
   "source": [
    "param_list = {'max_depth': [None] + list(np.arange(2, 20)),\n",
    "              'min_samples_split': [2, 5, 10, 20, 30, 50, 100],\n",
    "              'min_samples_leaf': [1, 5, 10, 20, 30, 50, 100],\n",
    "             }\n",
    "\n",
    "clf = DecisionTreeClassifier(criterion='gini', max_depth=None, min_samples_split=2, min_samples_leaf=1)\n",
    "\n",
    "random_search = RandomizedSearchCV(clf, param_distributions=param_list, n_iter=100)\n",
    "random_search.fit(X, y)\n",
    "report(random_search.cv_results_, n_top=3)"
   ]
  },
  {
   "cell_type": "code",
   "execution_count": 297,
   "metadata": {},
   "outputs": [],
   "source": [
    "clf = DecisionTreeClassifier(criterion='gini', max_depth=7, min_samples_split=2, min_samples_leaf=5)\n",
    "clf = clf.fit(X, y)"
   ]
  },
  {
   "cell_type": "code",
   "execution_count": 260,
   "metadata": {},
   "outputs": [],
   "source": [
    "import pydotplus\n",
    "from sklearn import tree\n",
    "from IPython.display import Image"
   ]
  },
  {
   "cell_type": "code",
   "execution_count": 3,
   "metadata": {},
   "outputs": [
    {
     "ename": "NameError",
     "evalue": "name 'tree' is not defined",
     "output_type": "error",
     "traceback": [
      "\u001b[0;31m---------------------------------------------------------------------------\u001b[0m",
      "\u001b[0;31mNameError\u001b[0m                                 Traceback (most recent call last)",
      "\u001b[0;32m<ipython-input-3-5d11df8cfb87>\u001b[0m in \u001b[0;36m<module>\u001b[0;34m\u001b[0m\n\u001b[0;32m----> 1\u001b[0;31m dot_data = tree.export_graphviz(clf, out_file=None,\n\u001b[0m\u001b[1;32m      2\u001b[0m                                 \u001b[0mclass_names\u001b[0m\u001b[0;34m=\u001b[0m\u001b[0;34m[\u001b[0m\u001b[0;34m'BadBuy'\u001b[0m \u001b[0;32mif\u001b[0m \u001b[0mx\u001b[0m \u001b[0;34m==\u001b[0m \u001b[0;36m1\u001b[0m \u001b[0;32melse\u001b[0m \u001b[0;34m'IsNotBadBuy'\u001b[0m \u001b[0;32mfor\u001b[0m \u001b[0mx\u001b[0m \u001b[0;32min\u001b[0m \u001b[0mclf\u001b[0m\u001b[0;34m.\u001b[0m\u001b[0mclasses_\u001b[0m\u001b[0;34m]\u001b[0m\u001b[0;34m,\u001b[0m\u001b[0;34m\u001b[0m\u001b[0;34m\u001b[0m\u001b[0m\n\u001b[1;32m      3\u001b[0m                                 \u001b[0mfilled\u001b[0m\u001b[0;34m=\u001b[0m\u001b[0;32mTrue\u001b[0m\u001b[0;34m,\u001b[0m \u001b[0mrounded\u001b[0m\u001b[0;34m=\u001b[0m\u001b[0;32mTrue\u001b[0m\u001b[0;34m,\u001b[0m\u001b[0;34m\u001b[0m\u001b[0;34m\u001b[0m\u001b[0m\n\u001b[1;32m      4\u001b[0m                                 \u001b[0mspecial_characters\u001b[0m\u001b[0;34m=\u001b[0m\u001b[0;32mTrue\u001b[0m\u001b[0;34m,\u001b[0m\u001b[0;34m\u001b[0m\u001b[0;34m\u001b[0m\u001b[0m\n\u001b[1;32m      5\u001b[0m                                 max_depth=10)  \n",
      "\u001b[0;31mNameError\u001b[0m: name 'tree' is not defined"
     ]
    }
   ],
   "source": [
    "dot_data = tree.export_graphviz(clf, out_file=None,\n",
    "                                class_names=['BadBuy' if x == 1 else 'IsNotBadBuy' for x in clf.classes_],  \n",
    "                                filled=True, rounded=True,  \n",
    "                                special_characters=True,\n",
    "                                max_depth=10)  \n",
    "graph = pydotplus.graph_from_dot_data(dot_data)  \n",
    "Image(graph.create_png())"
   ]
  },
  {
   "cell_type": "markdown",
   "metadata": {},
   "source": [
    "### Training Set"
   ]
  },
  {
   "cell_type": "code",
   "execution_count": 204,
   "metadata": {
    "colab": {},
    "colab_type": "code",
    "id": "dT5GlyFiV-BZ"
   },
   "outputs": [],
   "source": [
    "df = pd.read_csv('test.csv')"
   ]
  },
  {
   "cell_type": "code",
   "execution_count": 205,
   "metadata": {
    "colab": {
     "base_uri": "https://localhost:8080/",
     "height": 377
    },
    "colab_type": "code",
    "id": "ykIjGka_V-Bf",
    "outputId": "da793d2f-eae1-4c37-d590-2eaaa2c84d01"
   },
   "outputs": [
    {
     "data": {
      "text/plain": [
       "Trim                                   449\n",
       "SubModel                                 1\n",
       "Color                                    1\n",
       "Transmission                             1\n",
       "WheelTypeID                            596\n",
       "WheelType                              597\n",
       "Nationality                              1\n",
       "Size                                     1\n",
       "TopThreeAmericanName                     1\n",
       "MMRAcquisitionAuctionAveragePrice        5\n",
       "MMRAcquisitionAuctionCleanPrice          5\n",
       "MMRAcquisitionRetailAveragePrice         5\n",
       "MMRAcquisitonRetailCleanPrice            5\n",
       "MMRCurrentAuctionAveragePrice           70\n",
       "MMRCurrentAuctionCleanPrice             70\n",
       "MMRCurrentRetailAveragePrice            70\n",
       "MMRCurrentRetailCleanPrice              70\n",
       "PRIMEUNIT                            13861\n",
       "AUCGUART                             13861\n",
       "dtype: int64"
      ]
     },
     "execution_count": 205,
     "metadata": {},
     "output_type": "execute_result"
    }
   ],
   "source": [
    "missing = df[df.columns[df.isnull().any()]].isnull().sum()\n",
    "missing "
   ]
  },
  {
   "cell_type": "code",
   "execution_count": 206,
   "metadata": {
    "colab": {
     "base_uri": "https://localhost:8080/",
     "height": 719
    },
    "colab_type": "code",
    "id": "N5LqSP0GfxL3",
    "outputId": "016816b1-8995-4756-dc31-9b3d2ca24ba6"
   },
   "outputs": [
    {
     "name": "stdout",
     "output_type": "stream",
     "text": [
      "<class 'pandas.core.frame.DataFrame'>\n",
      "RangeIndex: 14597 entries, 0 to 14596\n",
      "Data columns (total 34 columns):\n",
      "RefId                                14597 non-null int64\n",
      "IsBadBuy                             14597 non-null int64\n",
      "PurchDate                            14597 non-null object\n",
      "Auction                              14597 non-null object\n",
      "VehYear                              14597 non-null int64\n",
      "VehicleAge                           14597 non-null int64\n",
      "Make                                 14597 non-null object\n",
      "Model                                14597 non-null object\n",
      "Trim                                 14148 non-null object\n",
      "SubModel                             14596 non-null object\n",
      "Color                                14596 non-null object\n",
      "Transmission                         14596 non-null object\n",
      "WheelTypeID                          14001 non-null float64\n",
      "WheelType                            14000 non-null object\n",
      "VehOdo                               14597 non-null int64\n",
      "Nationality                          14596 non-null object\n",
      "Size                                 14596 non-null object\n",
      "TopThreeAmericanName                 14596 non-null object\n",
      "MMRAcquisitionAuctionAveragePrice    14592 non-null float64\n",
      "MMRAcquisitionAuctionCleanPrice      14592 non-null float64\n",
      "MMRAcquisitionRetailAveragePrice     14592 non-null float64\n",
      "MMRAcquisitonRetailCleanPrice        14592 non-null float64\n",
      "MMRCurrentAuctionAveragePrice        14527 non-null float64\n",
      "MMRCurrentAuctionCleanPrice          14527 non-null float64\n",
      "MMRCurrentRetailAveragePrice         14527 non-null float64\n",
      "MMRCurrentRetailCleanPrice           14527 non-null float64\n",
      "PRIMEUNIT                            736 non-null object\n",
      "AUCGUART                             736 non-null object\n",
      "BYRNO                                14597 non-null int64\n",
      "VNZIP1                               14597 non-null int64\n",
      "VNST                                 14597 non-null object\n",
      "VehBCost                             14597 non-null float64\n",
      "IsOnlineSale                         14597 non-null int64\n",
      "WarrantyCost                         14597 non-null int64\n",
      "dtypes: float64(10), int64(9), object(15)\n",
      "memory usage: 3.8+ MB\n"
     ]
    }
   ],
   "source": [
    "df.info()\n"
   ]
  },
  {
   "cell_type": "code",
   "execution_count": 207,
   "metadata": {
    "colab": {
     "base_uri": "https://localhost:8080/",
     "height": 233
    },
    "colab_type": "code",
    "id": "vxzZgkj4V-Bl",
    "outputId": "b901dfc5-e912-483e-901f-196035f21938"
   },
   "outputs": [
    {
     "data": {
      "text/plain": [
       "WheelTypeID                            1\n",
       "MMRAcquisitionAuctionAveragePrice    180\n",
       "MMRAcquisitionAuctionCleanPrice      145\n",
       "MMRAcquisitionRetailAveragePrice     180\n",
       "MMRAcquisitonRetailCleanPrice        180\n",
       "MMRCurrentAuctionAveragePrice        111\n",
       "MMRCurrentAuctionCleanPrice           78\n",
       "MMRCurrentRetailAveragePrice         111\n",
       "MMRCurrentRetailCleanPrice           111\n",
       "VehBCost                               0\n",
       "WarrantyCost                           0\n",
       "dtype: int64"
      ]
     },
     "execution_count": 207,
     "metadata": {},
     "output_type": "execute_result"
    }
   ],
   "source": [
    "subset=df[['WheelTypeID','MMRAcquisitionAuctionAveragePrice','MMRAcquisitionAuctionCleanPrice','MMRAcquisitionRetailAveragePrice','MMRAcquisitonRetailCleanPrice','MMRCurrentAuctionAveragePrice','MMRCurrentAuctionCleanPrice','MMRCurrentRetailAveragePrice','MMRCurrentRetailCleanPrice','VehBCost','WarrantyCost']]\n",
    "(subset==0.0).astype(int).sum(axis=0)"
   ]
  },
  {
   "cell_type": "code",
   "execution_count": 208,
   "metadata": {
    "colab": {
     "base_uri": "https://localhost:8080/",
     "height": 197
    },
    "colab_type": "code",
    "id": "BN7zw4FNV-Bq",
    "outputId": "d7204e6c-0f7f-4654-eff9-b4508b4eabdc"
   },
   "outputs": [
    {
     "data": {
      "text/plain": [
       "WheelTypeID                          0\n",
       "MMRAcquisitionAuctionAveragePrice    0\n",
       "MMRAcquisitionAuctionCleanPrice      0\n",
       "MMRAcquisitionRetailAveragePrice     0\n",
       "MMRAcquisitonRetailCleanPrice        0\n",
       "MMRCurrentAuctionAveragePrice        0\n",
       "MMRCurrentAuctionCleanPrice          0\n",
       "MMRCurrentRetailAveragePrice         0\n",
       "MMRCurrentRetailCleanPrice           0\n",
       "dtype: int64"
      ]
     },
     "execution_count": 208,
     "metadata": {},
     "output_type": "execute_result"
    }
   ],
   "source": [
    "cols=['WheelTypeID','MMRAcquisitionAuctionAveragePrice','MMRAcquisitionAuctionCleanPrice','MMRAcquisitionRetailAveragePrice','MMRAcquisitonRetailCleanPrice','MMRCurrentAuctionAveragePrice','MMRCurrentAuctionCleanPrice','MMRCurrentRetailAveragePrice','MMRCurrentRetailCleanPrice']\n",
    "df[cols]=df[cols].replace({0.0:np.nan})\n",
    "(df[cols]==0.0).astype(int).sum(axis=0)"
   ]
  },
  {
   "cell_type": "code",
   "execution_count": 209,
   "metadata": {
    "colab": {
     "base_uri": "https://localhost:8080/",
     "height": 35
    },
    "colab_type": "code",
    "id": "HXXOGezPV-Bw",
    "outputId": "6b3ba2d6-0426-4af5-f7e7-cc964b15447d"
   },
   "outputs": [
    {
     "data": {
      "text/plain": [
       "0"
      ]
     },
     "execution_count": 209,
     "metadata": {},
     "output_type": "execute_result"
    }
   ],
   "source": [
    "### HANDLING TRIM - MISSING VALUES\n",
    "\n",
    "# PER MODEL\n",
    "pd.set_option('display.max_rows',10000)\n",
    "subset=df[['Model','Trim']]\n",
    "subset\n",
    "modes=subset.groupby('Model')['Trim'].apply(stats.mode)\n",
    "modes[0][0]\n",
    "\n",
    "pd.options.mode.chained_assignment=None\n",
    "model_without_trim=df[df['Trim'].isna()]['Model'].unique()\n",
    "model_without_trim\n",
    "\n",
    "for model in model_without_trim:\n",
    "    mask=(df['Model']==model)\n",
    "    mode=modes[model][0][0]\n",
    "    if mode!=0:\n",
    "        subset.loc[mask,'Trim']=subset.loc[mask,'Trim'].fillna(mode)\n",
    "subset['Trim'].isnull().sum()\n",
    "\n",
    "for model in model_without_trim:\n",
    "    mask=(df['Model']==model)\n",
    "    mode=modes[model][0][0]\n",
    "    if mode!=0:\n",
    "        df.loc[mask,'Trim']=df.loc[mask,'Trim'].fillna(mode)\n",
    "df['Trim'].isnull().sum()\n",
    "\n",
    "pd.set_option('display.max_rows',10000)\n",
    "subsets=df[['SubModel','Trim']]\n",
    "modes=subsets.groupby('SubModel')['Trim'].apply(stats.mode)\n",
    "modes[0][0]\n",
    "\n",
    "# PER SUBMODEL\n",
    "pd.options.mode.chained_assignment=None\n",
    "model_trim_0=df[df['Trim'].isna()]['SubModel'].unique()\n",
    "model_trim_0\n",
    "\n",
    "for submodel in model_trim_0:\n",
    "    if str(submodel)!='nan':\n",
    "        mask=(df['SubModel']==submodel)\n",
    "        mode=modes[submodel][0][0]\n",
    "        if mode!=0:\n",
    "            subsets.loc[mask,'Trim']=subsets.loc[mask,'Trim'].fillna(mode)\n",
    "subsets['Trim'].isnull().sum()    \n",
    "\n",
    "for submodel in model_trim_0:\n",
    "    if str(submodel)!='nan':\n",
    "        mask=(df['SubModel']==submodel)\n",
    "        mode=modes[submodel][0][0]\n",
    "        if mode!=0:\n",
    "            df.loc[mask,'Trim']=df.loc[mask,'Trim'].fillna(mode)\n",
    "df['Trim'].isnull().sum()    \n",
    "\n",
    "# PER SIZE\n",
    "pd.set_option('display.max_rows',10000)\n",
    "subsets=df[['Size','Trim']]\n",
    "modes=subsets.groupby('Size')['Trim'].apply(stats.mode)\n",
    "modes\n",
    "\n",
    "pd.options.mode.chained_assignment=None\n",
    "size_trim_nan=df[df['Trim'].isna()]['Size'].unique()\n",
    "size_trim_nan\n",
    "\n",
    "for size in size_trim_nan:\n",
    "    if str(size)!='nan':\n",
    "        mask=(df['Size']==size)\n",
    "        mode=modes[size][0][0]\n",
    "        if mode!=0:\n",
    "            subsets.loc[mask,'Trim']=subsets.loc[mask,'Trim'].fillna(mode)\n",
    "subsets['Trim'].isnull().sum()    \n",
    "\n",
    "for size in size_trim_nan:\n",
    "    if str(size)!='nan':\n",
    "        mask=(df['Size']==size)\n",
    "        mode=modes[size][0][0]\n",
    "        if mode!=0:\n",
    "            df.loc[mask,'Trim']=df.loc[mask,'Trim'].fillna(mode)\n",
    "df['Trim'].isnull().sum()    "
   ]
  },
  {
   "cell_type": "code",
   "execution_count": 210,
   "metadata": {
    "colab": {
     "base_uri": "https://localhost:8080/",
     "height": 35
    },
    "colab_type": "code",
    "id": "FkPYk8ayV-B1",
    "outputId": "f201900c-3941-4edd-bd22-ed1550353e4a"
   },
   "outputs": [
    {
     "data": {
      "text/plain": [
       "0"
      ]
     },
     "execution_count": 210,
     "metadata": {},
     "output_type": "execute_result"
    }
   ],
   "source": [
    "### HANDLING SUBMODEL - MISSING VALUES\n",
    "\n",
    "pd.set_option('display.max_rows',10000)\n",
    "subsets=df[['Model','SubModel']]\n",
    "modes=subsets.groupby('Model')['SubModel'].apply(stats.mode)\n",
    "modes\n",
    "\n",
    "pd.options.mode.chained_assignment=None\n",
    "submodel_nan=df[df['SubModel'].isna()]['Model'].unique()\n",
    "submodel_nan\n",
    "\n",
    "for model in submodel_nan:\n",
    "        mask=(df['Model']==model)\n",
    "        mode=modes[model][0][0]\n",
    "        if mode!=0:\n",
    "            subsets.loc[mask,'SubModel']=subsets.loc[mask,'SubModel'].fillna(mode)\n",
    "subsets['SubModel'].isnull().sum()   \n",
    "\n",
    "for model in submodel_nan:\n",
    "        mask=(df['Model']==model)\n",
    "        mode=modes[model][0][0]\n",
    "        if mode!=0:\n",
    "            df.loc[mask,'SubModel']=df.loc[mask,'SubModel'].fillna(mode)\n",
    "df['SubModel'].isnull().sum()   "
   ]
  },
  {
   "cell_type": "code",
   "execution_count": 211,
   "metadata": {
    "colab": {
     "base_uri": "https://localhost:8080/",
     "height": 35
    },
    "colab_type": "code",
    "id": "tchojl7xV-B7",
    "outputId": "4c86b53e-a049-4383-83d8-2fc020d81624"
   },
   "outputs": [
    {
     "data": {
      "text/plain": [
       "0"
      ]
     },
     "execution_count": 211,
     "metadata": {},
     "output_type": "execute_result"
    }
   ],
   "source": [
    "### HANDLING COLOR - MISSING VALUES\n",
    "\n",
    "df['Color'].fillna(df['Color']=='NOT AVAIL',inplace=True)\n",
    "df['Color'].isnull().sum()"
   ]
  },
  {
   "cell_type": "code",
   "execution_count": 212,
   "metadata": {
    "colab": {
     "base_uri": "https://localhost:8080/",
     "height": 35
    },
    "colab_type": "code",
    "id": "qOlbeOzgV-CB",
    "outputId": "7eb03220-bfc6-441d-badf-45efa639c8a8"
   },
   "outputs": [
    {
     "data": {
      "text/plain": [
       "0"
      ]
     },
     "execution_count": 212,
     "metadata": {},
     "output_type": "execute_result"
    }
   ],
   "source": [
    "#SUBSTITUTION Manual\n",
    "df['Transmission'].replace({'Manual':'MANUAL'},inplace=True)\n",
    "df['Transmission'].value_counts()\n",
    "\n",
    "### HANDLING TRANSMISSION - MISSING VALUES\n",
    "pd.set_option('display.max_rows',10000)\n",
    "subset=df[['Model','Transmission']]\n",
    "subset\n",
    "modes=subset.groupby('Model')['Transmission'].apply(stats.mode)\n",
    "modes\n",
    "\n",
    "pd.options.mode.chained_assignment=None\n",
    "model_without_transmission=df[df['Transmission'].isna()]['Model'].unique()\n",
    "model_without_transmission\n",
    "\n",
    "for model in model_without_transmission:\n",
    "    mask=(df['Model']==model)\n",
    "    mode=modes[model][0][0]\n",
    "    if mode!=0:\n",
    "        subset.loc[mask,'Transmission']=subset.loc[mask,'Transmission'].fillna(mode)\n",
    "subset['Transmission'].isnull().sum()\n",
    "\n",
    "for model in model_without_transmission:\n",
    "    mask=(df['Model']==model)\n",
    "    mode=modes[model][0][0]\n",
    "    if mode!=0:\n",
    "        df.loc[mask,'Transmission']=df.loc[mask,'Transmission'].fillna(mode)\n",
    "df['Transmission'].isnull().sum()"
   ]
  },
  {
   "cell_type": "code",
   "execution_count": 213,
   "metadata": {
    "colab": {
     "base_uri": "https://localhost:8080/",
     "height": 35
    },
    "colab_type": "code",
    "id": "VkT5q4rBV-CG",
    "outputId": "1419182c-5275-4143-8f17-aa398f7313de"
   },
   "outputs": [
    {
     "data": {
      "text/plain": [
       "0"
      ]
     },
     "execution_count": 213,
     "metadata": {},
     "output_type": "execute_result"
    }
   ],
   "source": [
    "### HANDLING WHEELTYPEID - MISSING VALUES\n",
    "\n",
    "pd.set_option('display.max_rows',10000)\n",
    "subset=df[['Model','WheelTypeID']]\n",
    "subset\n",
    "modes=subset.groupby('Model')['WheelTypeID'].apply(stats.mode)\n",
    "modes\n",
    "\n",
    "pd.options.mode.chained_assignment=None\n",
    "model_without_wheel=df[df['WheelTypeID'].isna()]['Model'].unique()\n",
    "model_without_wheel\n",
    "\n",
    "for model in model_without_wheel:\n",
    "    mask=(df['Model']==model)\n",
    "    mode=modes[model][0][0]\n",
    "    if mode!=0:\n",
    "        subset.loc[mask,'WheelTypeID']=subset.loc[mask,'WheelTypeID'].fillna(mode)\n",
    "subset['WheelTypeID'].isnull().sum()\n",
    "\n",
    "for model in model_without_wheel:\n",
    "    mask=(df['Model']==model)\n",
    "    mode=modes[model][0][0]\n",
    "    if mode!=0:\n",
    "        df.loc[mask,'WheelTypeID']=df.loc[mask,'WheelTypeID'].fillna(mode)\n",
    "df['WheelTypeID'].isnull().sum()\n",
    "\n",
    "df['WheelTypeID'].fillna(df['WheelTypeID'].mode()[0],inplace=True)\n",
    "df['WheelTypeID'].isnull().sum()"
   ]
  },
  {
   "cell_type": "code",
   "execution_count": 214,
   "metadata": {
    "colab": {
     "base_uri": "https://localhost:8080/",
     "height": 35
    },
    "colab_type": "code",
    "id": "Okt8XiDEV-CK",
    "outputId": "f3147f48-c234-464d-ed5f-a8c28f2d9576"
   },
   "outputs": [
    {
     "data": {
      "text/plain": [
       "0"
      ]
     },
     "execution_count": 214,
     "metadata": {},
     "output_type": "execute_result"
    }
   ],
   "source": [
    "### HANDLING WHEELTYPE - MISSING VALUES\n",
    "\n",
    "pd.set_option('display.max_rows',10000)\n",
    "subset=df[['Model','WheelType']]\n",
    "subset\n",
    "modes=subset.groupby('Model')['WheelType'].apply(stats.mode)\n",
    "modes\n",
    "\n",
    "pd.options.mode.chained_assignment=None\n",
    "model_without_wheel=df[df['WheelType'].isna()]['Model'].unique()\n",
    "model_without_wheel\n",
    "\n",
    "for model in model_without_wheel:\n",
    "    mask=(df['Model']==model)\n",
    "    mode=modes[model][0][0]\n",
    "    if mode!=0:\n",
    "        subset.loc[mask,'WheelType']=subset.loc[mask,'WheelType'].fillna(mode)\n",
    "subset['WheelType'].isnull().sum()\n",
    "\n",
    "for model in model_without_wheel:\n",
    "    mask=(df['Model']==model)\n",
    "    mode=modes[model][0][0]\n",
    "    if mode!=0:\n",
    "        df.loc[mask,'WheelType']=df.loc[mask,'WheelType'].fillna(mode)\n",
    "df['WheelType'].isnull().sum()\n",
    "\n",
    "df['WheelType'].fillna(df['WheelType'].mode()[0],inplace=True)\n",
    "df['WheelType'].isnull().sum()"
   ]
  },
  {
   "cell_type": "code",
   "execution_count": 215,
   "metadata": {
    "colab": {
     "base_uri": "https://localhost:8080/",
     "height": 35
    },
    "colab_type": "code",
    "id": "wdgIsq8JV-CQ",
    "outputId": "78e366c8-de20-408d-e258-8460ce58a320"
   },
   "outputs": [
    {
     "data": {
      "text/plain": [
       "0"
      ]
     },
     "execution_count": 215,
     "metadata": {},
     "output_type": "execute_result"
    }
   ],
   "source": [
    "### HANDLING NATIONALITY - MISSING VALUES\n",
    "\n",
    "pd.set_option('display.max_rows',10000)\n",
    "subset=df[['Make','Nationality']]\n",
    "subset\n",
    "modes=subset.groupby('Make')['Nationality'].apply(stats.mode)\n",
    "modes\n",
    "\n",
    "pd.options.mode.chained_assignment=None\n",
    "make_without_nationality=df[df['Nationality'].isna()]['Make'].unique()\n",
    "make_without_nationality\n",
    "\n",
    "for make in make_without_nationality:\n",
    "    mask=(df['Make']==make)\n",
    "    mode=modes[make][0][0]\n",
    "    if mode!=0:\n",
    "        subset.loc[mask,'Nationality']=subset.loc[mask,'Nationality'].fillna(mode)\n",
    "subset['Nationality'].isnull().sum()\n",
    "\n",
    "for make in make_without_nationality:\n",
    "    mask=(df['Make']==make)\n",
    "    mode=modes[make][0][0]\n",
    "    if mode!=0:\n",
    "        df.loc[mask,'Nationality']=df.loc[mask,'Nationality'].fillna(mode)\n",
    "df['Nationality'].isnull().sum()"
   ]
  },
  {
   "cell_type": "code",
   "execution_count": 216,
   "metadata": {
    "colab": {
     "base_uri": "https://localhost:8080/",
     "height": 35
    },
    "colab_type": "code",
    "id": "yjyZV6SdV-CU",
    "outputId": "07912e75-39ba-4421-da6c-0a729fd66f5d"
   },
   "outputs": [
    {
     "data": {
      "text/plain": [
       "0"
      ]
     },
     "execution_count": 216,
     "metadata": {},
     "output_type": "execute_result"
    }
   ],
   "source": [
    "### HANDLING SIZE - MISSING VALUES\n",
    "\n",
    "pd.set_option('display.max_rows',10000)\n",
    "subset=df[['Model','Size']]\n",
    "subset\n",
    "modes=subset.groupby('Model')['Size'].apply(stats.mode)\n",
    "modes\n",
    "\n",
    "pd.options.mode.chained_assignment=None\n",
    "model_without_size=df[df['Size'].isna()]['Model'].unique()\n",
    "model_without_size\n",
    "\n",
    "for model in model_without_size:\n",
    "    mask=(df['Model']==model)\n",
    "    mode=modes[model][0][0]\n",
    "    if mode!=0:\n",
    "        subset.loc[mask,'Size']=subset.loc[mask,'Size'].fillna(mode)\n",
    "subset['Size'].isnull().sum()\n",
    "\n",
    "for model in model_without_size:\n",
    "    mask=(df['Model']==model)\n",
    "    mode=modes[model][0][0]\n",
    "    if mode!=0:\n",
    "        df.loc[mask,'Size']=df.loc[mask,'Size'].fillna(mode)\n",
    "df['Size'].isnull().sum()\n",
    "\n",
    "df['Size'].fillna(df['Size'].mode()[0],inplace=True)\n",
    "df['Size'].isnull().sum()"
   ]
  },
  {
   "cell_type": "code",
   "execution_count": 217,
   "metadata": {
    "colab": {
     "base_uri": "https://localhost:8080/",
     "height": 35
    },
    "colab_type": "code",
    "id": "BshdNDSiV-CZ",
    "outputId": "22441ab6-fb5a-4ced-aefb-73fb73cb2b81"
   },
   "outputs": [
    {
     "data": {
      "text/plain": [
       "0"
      ]
     },
     "execution_count": 217,
     "metadata": {},
     "output_type": "execute_result"
    }
   ],
   "source": [
    "### HANDLING TOPTHREEAMERICANNAME - MISSING VALUES\n",
    "\n",
    "pd.set_option('display.max_rows',10000)\n",
    "subset=df[['Make','TopThreeAmericanName']]\n",
    "subset\n",
    "modes=subset.groupby('Make')['TopThreeAmericanName'].apply(stats.mode)\n",
    "modes\n",
    "\n",
    "pd.options.mode.chained_assignment=None\n",
    "make_without_top=df[df['TopThreeAmericanName'].isna()]['Make'].unique()\n",
    "make_without_top\n",
    "\n",
    "for make in make_without_top:\n",
    "    mask=(df['Make']==make)\n",
    "    mode=modes[make][0][0]\n",
    "    if mode!=0:\n",
    "        subset.loc[mask,'TopThreeAmericanName']=subset.loc[mask,'TopThreeAmericanName'].fillna(mode)\n",
    "subset['TopThreeAmericanName'].isnull().sum()\n",
    "\n",
    "for make in make_without_top:\n",
    "    mask=(df['Make']==make)\n",
    "    mode=modes[make][0][0]\n",
    "    if mode!=0:\n",
    "        df.loc[mask,'TopThreeAmericanName']=df.loc[mask,'TopThreeAmericanName'].fillna(mode)\n",
    "df['TopThreeAmericanName'].isnull().sum()"
   ]
  },
  {
   "cell_type": "code",
   "execution_count": 218,
   "metadata": {
    "colab": {
     "base_uri": "https://localhost:8080/",
     "height": 35
    },
    "colab_type": "code",
    "id": "Uq_naV6EV-Cf",
    "outputId": "a46a2fe9-c0c8-44fa-c06d-04036faef865"
   },
   "outputs": [
    {
     "data": {
      "text/plain": [
       "0"
      ]
     },
     "execution_count": 218,
     "metadata": {},
     "output_type": "execute_result"
    }
   ],
   "source": [
    "### HANDLING MMR - MISSING VALUES\n",
    "\n",
    "df['MMRAcquisitionAuctionAveragePrice'].fillna(df['MMRAcquisitionAuctionAveragePrice'].median(),inplace=True)\n",
    "df['MMRAcquisitionAuctionAveragePrice'].isnull().sum()\n",
    "\n",
    "df['MMRAcquisitionAuctionCleanPrice'].fillna(df['MMRAcquisitionAuctionCleanPrice'].median(),inplace=True)\n",
    "df['MMRAcquisitionAuctionCleanPrice'].isnull().sum()\n",
    "\n",
    "df['MMRAcquisitionRetailAveragePrice'].fillna(df['MMRAcquisitionRetailAveragePrice'].median(),inplace=True)\n",
    "df['MMRAcquisitionRetailAveragePrice'].isnull().sum()\n",
    "\n",
    "df['MMRAcquisitonRetailCleanPrice'].fillna(df['MMRAcquisitonRetailCleanPrice'].median(),inplace=True)\n",
    "df['MMRAcquisitonRetailCleanPrice'].isnull().sum()\n",
    "\n",
    "df['MMRCurrentAuctionAveragePrice'].fillna(df['MMRCurrentAuctionAveragePrice'].median(),inplace=True)\n",
    "df['MMRCurrentAuctionAveragePrice'].isnull().sum()\n",
    "\n",
    "df['MMRCurrentAuctionCleanPrice'].fillna(df['MMRCurrentAuctionCleanPrice'].median(),inplace=True)\n",
    "df['MMRCurrentAuctionCleanPrice'].isnull().sum()\n",
    "\n",
    "df['MMRCurrentRetailAveragePrice'].fillna(df['MMRCurrentRetailAveragePrice'].median(),inplace=True)\n",
    "df['MMRCurrentRetailAveragePrice'].isnull().sum()\n",
    "\n",
    "df['MMRCurrentRetailCleanPrice'].fillna(df['MMRCurrentRetailCleanPrice'].median(),inplace=True)\n",
    "df['MMRCurrentRetailCleanPrice'].isnull().sum()"
   ]
  },
  {
   "cell_type": "code",
   "execution_count": 219,
   "metadata": {
    "colab": {
     "base_uri": "https://localhost:8080/",
     "height": 419
    },
    "colab_type": "code",
    "id": "dHp1LRKZV-Cy",
    "outputId": "ace9c348-cd0a-41de-85a6-8c3e82ac9ee0"
   },
   "outputs": [
    {
     "data": {
      "text/html": [
       "<div>\n",
       "<style scoped>\n",
       "    .dataframe tbody tr th:only-of-type {\n",
       "        vertical-align: middle;\n",
       "    }\n",
       "\n",
       "    .dataframe tbody tr th {\n",
       "        vertical-align: top;\n",
       "    }\n",
       "\n",
       "    .dataframe thead th {\n",
       "        text-align: right;\n",
       "    }\n",
       "</style>\n",
       "<table border=\"1\" class=\"dataframe\">\n",
       "  <thead>\n",
       "    <tr style=\"text-align: right;\">\n",
       "      <th></th>\n",
       "      <th>MMRAcquisitionAuctionAveragePrice</th>\n",
       "      <th>MMRAcquisitionAuctionCleanPrice</th>\n",
       "      <th>MMRAcquisitionRetailAveragePrice</th>\n",
       "      <th>MMRAcquisitonRetailCleanPrice</th>\n",
       "    </tr>\n",
       "  </thead>\n",
       "  <tbody>\n",
       "    <tr>\n",
       "      <td>0</td>\n",
       "      <td>-3138.0</td>\n",
       "      <td>-1551.0</td>\n",
       "      <td>569.0</td>\n",
       "      <td>2869.0</td>\n",
       "    </tr>\n",
       "    <tr>\n",
       "      <td>1</td>\n",
       "      <td>1140.0</td>\n",
       "      <td>2571.0</td>\n",
       "      <td>5017.0</td>\n",
       "      <td>6898.0</td>\n",
       "    </tr>\n",
       "    <tr>\n",
       "      <td>2</td>\n",
       "      <td>-2848.0</td>\n",
       "      <td>-1734.0</td>\n",
       "      <td>-2120.0</td>\n",
       "      <td>-917.0</td>\n",
       "    </tr>\n",
       "    <tr>\n",
       "      <td>3</td>\n",
       "      <td>-1101.0</td>\n",
       "      <td>143.0</td>\n",
       "      <td>2692.0</td>\n",
       "      <td>3571.0</td>\n",
       "    </tr>\n",
       "    <tr>\n",
       "      <td>4</td>\n",
       "      <td>-242.0</td>\n",
       "      <td>739.0</td>\n",
       "      <td>781.0</td>\n",
       "      <td>1841.0</td>\n",
       "    </tr>\n",
       "    <tr>\n",
       "      <td>...</td>\n",
       "      <td>...</td>\n",
       "      <td>...</td>\n",
       "      <td>...</td>\n",
       "      <td>...</td>\n",
       "    </tr>\n",
       "    <tr>\n",
       "      <td>14592</td>\n",
       "      <td>-823.0</td>\n",
       "      <td>823.0</td>\n",
       "      <td>222.0</td>\n",
       "      <td>1999.0</td>\n",
       "    </tr>\n",
       "    <tr>\n",
       "      <td>14593</td>\n",
       "      <td>774.0</td>\n",
       "      <td>1952.0</td>\n",
       "      <td>4002.0</td>\n",
       "      <td>5237.0</td>\n",
       "    </tr>\n",
       "    <tr>\n",
       "      <td>14594</td>\n",
       "      <td>-2536.0</td>\n",
       "      <td>-1857.0</td>\n",
       "      <td>-1811.0</td>\n",
       "      <td>-1078.0</td>\n",
       "    </tr>\n",
       "    <tr>\n",
       "      <td>14595</td>\n",
       "      <td>192.0</td>\n",
       "      <td>1680.0</td>\n",
       "      <td>1287.0</td>\n",
       "      <td>2894.0</td>\n",
       "    </tr>\n",
       "    <tr>\n",
       "      <td>14596</td>\n",
       "      <td>1078.0</td>\n",
       "      <td>2580.0</td>\n",
       "      <td>2210.0</td>\n",
       "      <td>3832.0</td>\n",
       "    </tr>\n",
       "  </tbody>\n",
       "</table>\n",
       "<p>14597 rows × 4 columns</p>\n",
       "</div>"
      ],
      "text/plain": [
       "       MMRAcquisitionAuctionAveragePrice  MMRAcquisitionAuctionCleanPrice  \\\n",
       "0                                -3138.0                          -1551.0   \n",
       "1                                 1140.0                           2571.0   \n",
       "2                                -2848.0                          -1734.0   \n",
       "3                                -1101.0                            143.0   \n",
       "4                                 -242.0                            739.0   \n",
       "...                                  ...                              ...   \n",
       "14592                             -823.0                            823.0   \n",
       "14593                              774.0                           1952.0   \n",
       "14594                            -2536.0                          -1857.0   \n",
       "14595                              192.0                           1680.0   \n",
       "14596                             1078.0                           2580.0   \n",
       "\n",
       "       MMRAcquisitionRetailAveragePrice  MMRAcquisitonRetailCleanPrice  \n",
       "0                                 569.0                         2869.0  \n",
       "1                                5017.0                         6898.0  \n",
       "2                               -2120.0                         -917.0  \n",
       "3                                2692.0                         3571.0  \n",
       "4                                 781.0                         1841.0  \n",
       "...                                 ...                            ...  \n",
       "14592                             222.0                         1999.0  \n",
       "14593                            4002.0                         5237.0  \n",
       "14594                           -1811.0                        -1078.0  \n",
       "14595                            1287.0                         2894.0  \n",
       "14596                            2210.0                         3832.0  \n",
       "\n",
       "[14597 rows x 4 columns]"
      ]
     },
     "execution_count": 219,
     "metadata": {},
     "output_type": "execute_result"
    }
   ],
   "source": [
    "### DIFFERENCE BETWEEN MMR_ACQUISITION AND VEHBCOST\n",
    "\n",
    "mmrs=['MMRAcquisitionAuctionAveragePrice','MMRAcquisitionAuctionCleanPrice','MMRAcquisitionRetailAveragePrice','MMRAcquisitonRetailCleanPrice']\n",
    "mmrs\n",
    "for i in range(4):\n",
    "    df[mmrs[i]]=df[mmrs[i]]-df['VehBCost']\n",
    "df[mmrs]"
   ]
  },
  {
   "cell_type": "code",
   "execution_count": 220,
   "metadata": {
    "colab": {
     "base_uri": "https://localhost:8080/",
     "height": 419
    },
    "colab_type": "code",
    "id": "xqcdM1Y_V-C2",
    "outputId": "5a5b313e-62ca-40e1-cfdc-9e0ee374dc58"
   },
   "outputs": [
    {
     "data": {
      "text/html": [
       "<div>\n",
       "<style scoped>\n",
       "    .dataframe tbody tr th:only-of-type {\n",
       "        vertical-align: middle;\n",
       "    }\n",
       "\n",
       "    .dataframe tbody tr th {\n",
       "        vertical-align: top;\n",
       "    }\n",
       "\n",
       "    .dataframe thead th {\n",
       "        text-align: right;\n",
       "    }\n",
       "</style>\n",
       "<table border=\"1\" class=\"dataframe\">\n",
       "  <thead>\n",
       "    <tr style=\"text-align: right;\">\n",
       "      <th></th>\n",
       "      <th>Difference_Acquisition_RCP</th>\n",
       "      <th>MMRAcquisitonRetailCleanPrice</th>\n",
       "    </tr>\n",
       "  </thead>\n",
       "  <tbody>\n",
       "    <tr>\n",
       "      <td>0</td>\n",
       "      <td>2869.0</td>\n",
       "      <td>2869.0</td>\n",
       "    </tr>\n",
       "    <tr>\n",
       "      <td>1</td>\n",
       "      <td>6898.0</td>\n",
       "      <td>6898.0</td>\n",
       "    </tr>\n",
       "    <tr>\n",
       "      <td>2</td>\n",
       "      <td>-917.0</td>\n",
       "      <td>-917.0</td>\n",
       "    </tr>\n",
       "    <tr>\n",
       "      <td>3</td>\n",
       "      <td>3571.0</td>\n",
       "      <td>3571.0</td>\n",
       "    </tr>\n",
       "    <tr>\n",
       "      <td>4</td>\n",
       "      <td>1841.0</td>\n",
       "      <td>1841.0</td>\n",
       "    </tr>\n",
       "    <tr>\n",
       "      <td>...</td>\n",
       "      <td>...</td>\n",
       "      <td>...</td>\n",
       "    </tr>\n",
       "    <tr>\n",
       "      <td>14592</td>\n",
       "      <td>1999.0</td>\n",
       "      <td>1999.0</td>\n",
       "    </tr>\n",
       "    <tr>\n",
       "      <td>14593</td>\n",
       "      <td>5237.0</td>\n",
       "      <td>5237.0</td>\n",
       "    </tr>\n",
       "    <tr>\n",
       "      <td>14594</td>\n",
       "      <td>-1078.0</td>\n",
       "      <td>-1078.0</td>\n",
       "    </tr>\n",
       "    <tr>\n",
       "      <td>14595</td>\n",
       "      <td>2894.0</td>\n",
       "      <td>2894.0</td>\n",
       "    </tr>\n",
       "    <tr>\n",
       "      <td>14596</td>\n",
       "      <td>3832.0</td>\n",
       "      <td>3832.0</td>\n",
       "    </tr>\n",
       "  </tbody>\n",
       "</table>\n",
       "<p>14597 rows × 2 columns</p>\n",
       "</div>"
      ],
      "text/plain": [
       "       Difference_Acquisition_RCP  MMRAcquisitonRetailCleanPrice\n",
       "0                          2869.0                         2869.0\n",
       "1                          6898.0                         6898.0\n",
       "2                          -917.0                         -917.0\n",
       "3                          3571.0                         3571.0\n",
       "4                          1841.0                         1841.0\n",
       "...                           ...                            ...\n",
       "14592                      1999.0                         1999.0\n",
       "14593                      5237.0                         5237.0\n",
       "14594                     -1078.0                        -1078.0\n",
       "14595                      2894.0                         2894.0\n",
       "14596                      3832.0                         3832.0\n",
       "\n",
       "[14597 rows x 2 columns]"
      ]
     },
     "execution_count": 220,
     "metadata": {},
     "output_type": "execute_result"
    }
   ],
   "source": [
    "### DIFFERENCE VARIABLES_ACQUISITION\n",
    "\n",
    "df['Difference_Acquisition_AAP']=df['MMRAcquisitionAuctionAveragePrice']\n",
    "df['Difference_Acquisition_ACP']=df['MMRAcquisitionAuctionCleanPrice']\n",
    "df['Difference_Acquisition_RAP']=df['MMRAcquisitionRetailAveragePrice']\n",
    "df['Difference_Acquisition_RCP']=df['MMRAcquisitonRetailCleanPrice']\n",
    "df[['Difference_Acquisition_RCP','MMRAcquisitonRetailCleanPrice']]"
   ]
  },
  {
   "cell_type": "code",
   "execution_count": 221,
   "metadata": {
    "colab": {},
    "colab_type": "code",
    "id": "zg8ZqKZ2pc-S"
   },
   "outputs": [],
   "source": [
    "### MAX POSSIBLE MARKUP RESULTING FROM SALES_ACQUISITION\n",
    "\n",
    "df['Markup_Acquisition_AP_max']=df['Difference_Acquisition_AAP']+df['Difference_Acquisition_RAP']\n",
    "df['Markup_Acquisition_CP_max']=df['Difference_Acquisition_ACP']+df['Difference_Acquisition_RCP']"
   ]
  },
  {
   "cell_type": "code",
   "execution_count": 222,
   "metadata": {
    "colab": {
     "base_uri": "https://localhost:8080/",
     "height": 35
    },
    "colab_type": "code",
    "id": "F863xiXekNGY",
    "outputId": "24a219f6-a482-4309-ef86-8db9f143ada5"
   },
   "outputs": [
    {
     "data": {
      "text/plain": [
       "(8480, 1006, 762, 4349)"
      ]
     },
     "execution_count": 222,
     "metadata": {},
     "output_type": "execute_result"
    }
   ],
   "source": [
    "df1 = df[((df['Difference_Acquisition_AAP']+df['Difference_Acquisition_RAP']) >= 0)]\n",
    "df2 = df[((df['Difference_Acquisition_AAP']+df['Difference_Acquisition_RAP']) < 0)]\n",
    "# b = (((df['Difference_Acquisition_AAP']+df['Difference_Acquisition_RAP']) < 0) == (df['IsBadBuy'] == 0)).sum()\n",
    "\n",
    "(\n",
    "    (df1['IsBadBuy'] == 0).sum(), (df1['IsBadBuy'] != 0).sum(),\n",
    "    (df2['IsBadBuy'] == 1).sum(), (df2['IsBadBuy'] != 1).sum()\n",
    ")\n",
    "# df1.count()\n"
   ]
  },
  {
   "cell_type": "code",
   "execution_count": 223,
   "metadata": {
    "colab": {
     "base_uri": "https://localhost:8080/",
     "height": 419
    },
    "colab_type": "code",
    "id": "_pzGyUhzGP7T",
    "outputId": "73047c0a-51de-462f-ea93-28e304513c4c"
   },
   "outputs": [
    {
     "data": {
      "text/html": [
       "<div>\n",
       "<style scoped>\n",
       "    .dataframe tbody tr th:only-of-type {\n",
       "        vertical-align: middle;\n",
       "    }\n",
       "\n",
       "    .dataframe tbody tr th {\n",
       "        vertical-align: top;\n",
       "    }\n",
       "\n",
       "    .dataframe thead th {\n",
       "        text-align: right;\n",
       "    }\n",
       "</style>\n",
       "<table border=\"1\" class=\"dataframe\">\n",
       "  <thead>\n",
       "    <tr style=\"text-align: right;\">\n",
       "      <th></th>\n",
       "      <th>PurchDate</th>\n",
       "      <th>PurchYear</th>\n",
       "    </tr>\n",
       "  </thead>\n",
       "  <tbody>\n",
       "    <tr>\n",
       "      <td>0</td>\n",
       "      <td>10/26/2010</td>\n",
       "      <td>2010</td>\n",
       "    </tr>\n",
       "    <tr>\n",
       "      <td>1</td>\n",
       "      <td>1/27/2010</td>\n",
       "      <td>2010</td>\n",
       "    </tr>\n",
       "    <tr>\n",
       "      <td>2</td>\n",
       "      <td>9/3/2009</td>\n",
       "      <td>2009</td>\n",
       "    </tr>\n",
       "    <tr>\n",
       "      <td>3</td>\n",
       "      <td>1/21/2010</td>\n",
       "      <td>2010</td>\n",
       "    </tr>\n",
       "    <tr>\n",
       "      <td>4</td>\n",
       "      <td>3/18/2009</td>\n",
       "      <td>2009</td>\n",
       "    </tr>\n",
       "    <tr>\n",
       "      <td>...</td>\n",
       "      <td>...</td>\n",
       "      <td>...</td>\n",
       "    </tr>\n",
       "    <tr>\n",
       "      <td>14592</td>\n",
       "      <td>9/1/2009</td>\n",
       "      <td>2009</td>\n",
       "    </tr>\n",
       "    <tr>\n",
       "      <td>14593</td>\n",
       "      <td>8/20/2010</td>\n",
       "      <td>2010</td>\n",
       "    </tr>\n",
       "    <tr>\n",
       "      <td>14594</td>\n",
       "      <td>7/1/2009</td>\n",
       "      <td>2009</td>\n",
       "    </tr>\n",
       "    <tr>\n",
       "      <td>14595</td>\n",
       "      <td>6/11/2009</td>\n",
       "      <td>2009</td>\n",
       "    </tr>\n",
       "    <tr>\n",
       "      <td>14596</td>\n",
       "      <td>11/12/2009</td>\n",
       "      <td>2009</td>\n",
       "    </tr>\n",
       "  </tbody>\n",
       "</table>\n",
       "<p>14597 rows × 2 columns</p>\n",
       "</div>"
      ],
      "text/plain": [
       "        PurchDate  PurchYear\n",
       "0      10/26/2010       2010\n",
       "1       1/27/2010       2010\n",
       "2        9/3/2009       2009\n",
       "3       1/21/2010       2010\n",
       "4       3/18/2009       2009\n",
       "...           ...        ...\n",
       "14592    9/1/2009       2009\n",
       "14593   8/20/2010       2010\n",
       "14594    7/1/2009       2009\n",
       "14595   6/11/2009       2009\n",
       "14596  11/12/2009       2009\n",
       "\n",
       "[14597 rows x 2 columns]"
      ]
     },
     "execution_count": 223,
     "metadata": {},
     "output_type": "execute_result"
    }
   ],
   "source": [
    "df['PurchYear']=[int(purch_date.split('/')[2]) for purch_date in df['PurchDate']]\n",
    "df[['PurchDate', 'PurchYear']]"
   ]
  },
  {
   "cell_type": "code",
   "execution_count": 224,
   "metadata": {
    "colab": {},
    "colab_type": "code",
    "id": "hbMp1pwEV-Cl"
   },
   "outputs": [],
   "source": [
    "### VARIATION RATE (RATE OF CHANGE, ROC) - MMR\n",
    "\n",
    "df['Variation_rate_AAP']=df['MMRCurrentAuctionAveragePrice']/df['MMRAcquisitionAuctionAveragePrice']\n",
    "df['Variation_rate_ACP']=df['MMRCurrentAuctionCleanPrice']/df['MMRAcquisitionAuctionCleanPrice']\n",
    "df['Variation_rate_RAP']=df['MMRCurrentRetailAveragePrice']/df['MMRAcquisitionRetailAveragePrice']\n",
    "df['Variation_rate_RCP']=df['MMRCurrentRetailCleanPrice']/df['MMRAcquisitonRetailCleanPrice']\n",
    "\n",
    "# list(df['Variation_rate_AAP']) + list(df['Variation_rate_ACP']) + list(df['Variation_rate_RAP']) + list(df['Variation_rate_RCP']).mean()\n",
    "\n",
    "df['Variation_rate_mean']=df[['Variation_rate_AAP', 'Variation_rate_ACP', 'Variation_rate_RAP', 'Variation_rate_RCP']].transpose().mean()\n"
   ]
  },
  {
   "cell_type": "code",
   "execution_count": 225,
   "metadata": {
    "colab": {},
    "colab_type": "code",
    "id": "7lnygmCUVEmo"
   },
   "outputs": [],
   "source": [
    "### CURRENT VEHBCOST RESULTING FROM AVERAGE ROC\n",
    "\n",
    "df['VehBCost_Current']=df['Variation_rate_mean']*df['VehBCost']"
   ]
  },
  {
   "cell_type": "code",
   "execution_count": 226,
   "metadata": {
    "colab": {
     "base_uri": "https://localhost:8080/",
     "height": 419
    },
    "colab_type": "code",
    "id": "767jYwOsXJQT",
    "outputId": "fc23af98-fe41-4ffa-ae03-4ac32107238b"
   },
   "outputs": [
    {
     "data": {
      "text/html": [
       "<div>\n",
       "<style scoped>\n",
       "    .dataframe tbody tr th:only-of-type {\n",
       "        vertical-align: middle;\n",
       "    }\n",
       "\n",
       "    .dataframe tbody tr th {\n",
       "        vertical-align: top;\n",
       "    }\n",
       "\n",
       "    .dataframe thead th {\n",
       "        text-align: right;\n",
       "    }\n",
       "</style>\n",
       "<table border=\"1\" class=\"dataframe\">\n",
       "  <thead>\n",
       "    <tr style=\"text-align: right;\">\n",
       "      <th></th>\n",
       "      <th>MMRCurrentAuctionAveragePrice</th>\n",
       "      <th>MMRCurrentAuctionCleanPrice</th>\n",
       "      <th>MMRCurrentRetailAveragePrice</th>\n",
       "      <th>MMRCurrentRetailCleanPrice</th>\n",
       "    </tr>\n",
       "  </thead>\n",
       "  <tbody>\n",
       "    <tr>\n",
       "      <td>0</td>\n",
       "      <td>-3476.0</td>\n",
       "      <td>-1722.0</td>\n",
       "      <td>336.0</td>\n",
       "      <td>1922.0</td>\n",
       "    </tr>\n",
       "    <tr>\n",
       "      <td>1</td>\n",
       "      <td>1526.0</td>\n",
       "      <td>2919.0</td>\n",
       "      <td>5240.0</td>\n",
       "      <td>6460.0</td>\n",
       "    </tr>\n",
       "    <tr>\n",
       "      <td>2</td>\n",
       "      <td>-2896.0</td>\n",
       "      <td>-1680.0</td>\n",
       "      <td>-2172.0</td>\n",
       "      <td>-858.0</td>\n",
       "    </tr>\n",
       "    <tr>\n",
       "      <td>3</td>\n",
       "      <td>-553.0</td>\n",
       "      <td>1099.0</td>\n",
       "      <td>2499.0</td>\n",
       "      <td>4131.0</td>\n",
       "    </tr>\n",
       "    <tr>\n",
       "      <td>4</td>\n",
       "      <td>-620.0</td>\n",
       "      <td>510.0</td>\n",
       "      <td>373.0</td>\n",
       "      <td>1594.0</td>\n",
       "    </tr>\n",
       "    <tr>\n",
       "      <td>...</td>\n",
       "      <td>...</td>\n",
       "      <td>...</td>\n",
       "      <td>...</td>\n",
       "      <td>...</td>\n",
       "    </tr>\n",
       "    <tr>\n",
       "      <td>14592</td>\n",
       "      <td>-1059.0</td>\n",
       "      <td>-80.0</td>\n",
       "      <td>-33.0</td>\n",
       "      <td>1024.0</td>\n",
       "    </tr>\n",
       "    <tr>\n",
       "      <td>14593</td>\n",
       "      <td>-624.0</td>\n",
       "      <td>673.0</td>\n",
       "      <td>2783.0</td>\n",
       "      <td>4157.0</td>\n",
       "    </tr>\n",
       "    <tr>\n",
       "      <td>14594</td>\n",
       "      <td>-2536.0</td>\n",
       "      <td>-1857.0</td>\n",
       "      <td>-1811.0</td>\n",
       "      <td>-1078.0</td>\n",
       "    </tr>\n",
       "    <tr>\n",
       "      <td>14595</td>\n",
       "      <td>192.0</td>\n",
       "      <td>1680.0</td>\n",
       "      <td>1287.0</td>\n",
       "      <td>2894.0</td>\n",
       "    </tr>\n",
       "    <tr>\n",
       "      <td>14596</td>\n",
       "      <td>827.0</td>\n",
       "      <td>2485.0</td>\n",
       "      <td>5323.0</td>\n",
       "      <td>7379.0</td>\n",
       "    </tr>\n",
       "  </tbody>\n",
       "</table>\n",
       "<p>14597 rows × 4 columns</p>\n",
       "</div>"
      ],
      "text/plain": [
       "       MMRCurrentAuctionAveragePrice  MMRCurrentAuctionCleanPrice  \\\n",
       "0                            -3476.0                      -1722.0   \n",
       "1                             1526.0                       2919.0   \n",
       "2                            -2896.0                      -1680.0   \n",
       "3                             -553.0                       1099.0   \n",
       "4                             -620.0                        510.0   \n",
       "...                              ...                          ...   \n",
       "14592                        -1059.0                        -80.0   \n",
       "14593                         -624.0                        673.0   \n",
       "14594                        -2536.0                      -1857.0   \n",
       "14595                          192.0                       1680.0   \n",
       "14596                          827.0                       2485.0   \n",
       "\n",
       "       MMRCurrentRetailAveragePrice  MMRCurrentRetailCleanPrice  \n",
       "0                             336.0                      1922.0  \n",
       "1                            5240.0                      6460.0  \n",
       "2                           -2172.0                      -858.0  \n",
       "3                            2499.0                      4131.0  \n",
       "4                             373.0                      1594.0  \n",
       "...                             ...                         ...  \n",
       "14592                         -33.0                      1024.0  \n",
       "14593                        2783.0                      4157.0  \n",
       "14594                       -1811.0                     -1078.0  \n",
       "14595                        1287.0                      2894.0  \n",
       "14596                        5323.0                      7379.0  \n",
       "\n",
       "[14597 rows x 4 columns]"
      ]
     },
     "execution_count": 226,
     "metadata": {},
     "output_type": "execute_result"
    }
   ],
   "source": [
    "###### DIFFERENCE BETWEEN MMR_CURRENT AND VEHBCOST\n",
    "\n",
    "mmrs=['MMRCurrentAuctionAveragePrice','MMRCurrentAuctionCleanPrice','MMRCurrentRetailAveragePrice','MMRCurrentRetailCleanPrice']\n",
    "mmrs\n",
    "for i in range(4):\n",
    "    df[mmrs[i]]=df[mmrs[i]]-df['VehBCost']\n",
    "df[mmrs]"
   ]
  },
  {
   "cell_type": "code",
   "execution_count": 227,
   "metadata": {
    "colab": {
     "base_uri": "https://localhost:8080/",
     "height": 419
    },
    "colab_type": "code",
    "id": "Aa-bURbYoA8F",
    "outputId": "8ad87143-d1af-4e14-9c84-47e0dfa435ec"
   },
   "outputs": [
    {
     "data": {
      "text/html": [
       "<div>\n",
       "<style scoped>\n",
       "    .dataframe tbody tr th:only-of-type {\n",
       "        vertical-align: middle;\n",
       "    }\n",
       "\n",
       "    .dataframe tbody tr th {\n",
       "        vertical-align: top;\n",
       "    }\n",
       "\n",
       "    .dataframe thead th {\n",
       "        text-align: right;\n",
       "    }\n",
       "</style>\n",
       "<table border=\"1\" class=\"dataframe\">\n",
       "  <thead>\n",
       "    <tr style=\"text-align: right;\">\n",
       "      <th></th>\n",
       "      <th>Difference_Current_RCP</th>\n",
       "      <th>MMRCurrentRetailCleanPrice</th>\n",
       "    </tr>\n",
       "  </thead>\n",
       "  <tbody>\n",
       "    <tr>\n",
       "      <td>0</td>\n",
       "      <td>1922.0</td>\n",
       "      <td>1922.0</td>\n",
       "    </tr>\n",
       "    <tr>\n",
       "      <td>1</td>\n",
       "      <td>6460.0</td>\n",
       "      <td>6460.0</td>\n",
       "    </tr>\n",
       "    <tr>\n",
       "      <td>2</td>\n",
       "      <td>-858.0</td>\n",
       "      <td>-858.0</td>\n",
       "    </tr>\n",
       "    <tr>\n",
       "      <td>3</td>\n",
       "      <td>4131.0</td>\n",
       "      <td>4131.0</td>\n",
       "    </tr>\n",
       "    <tr>\n",
       "      <td>4</td>\n",
       "      <td>1594.0</td>\n",
       "      <td>1594.0</td>\n",
       "    </tr>\n",
       "    <tr>\n",
       "      <td>...</td>\n",
       "      <td>...</td>\n",
       "      <td>...</td>\n",
       "    </tr>\n",
       "    <tr>\n",
       "      <td>14592</td>\n",
       "      <td>1024.0</td>\n",
       "      <td>1024.0</td>\n",
       "    </tr>\n",
       "    <tr>\n",
       "      <td>14593</td>\n",
       "      <td>4157.0</td>\n",
       "      <td>4157.0</td>\n",
       "    </tr>\n",
       "    <tr>\n",
       "      <td>14594</td>\n",
       "      <td>-1078.0</td>\n",
       "      <td>-1078.0</td>\n",
       "    </tr>\n",
       "    <tr>\n",
       "      <td>14595</td>\n",
       "      <td>2894.0</td>\n",
       "      <td>2894.0</td>\n",
       "    </tr>\n",
       "    <tr>\n",
       "      <td>14596</td>\n",
       "      <td>7379.0</td>\n",
       "      <td>7379.0</td>\n",
       "    </tr>\n",
       "  </tbody>\n",
       "</table>\n",
       "<p>14597 rows × 2 columns</p>\n",
       "</div>"
      ],
      "text/plain": [
       "       Difference_Current_RCP  MMRCurrentRetailCleanPrice\n",
       "0                      1922.0                      1922.0\n",
       "1                      6460.0                      6460.0\n",
       "2                      -858.0                      -858.0\n",
       "3                      4131.0                      4131.0\n",
       "4                      1594.0                      1594.0\n",
       "...                       ...                         ...\n",
       "14592                  1024.0                      1024.0\n",
       "14593                  4157.0                      4157.0\n",
       "14594                 -1078.0                     -1078.0\n",
       "14595                  2894.0                      2894.0\n",
       "14596                  7379.0                      7379.0\n",
       "\n",
       "[14597 rows x 2 columns]"
      ]
     },
     "execution_count": 227,
     "metadata": {},
     "output_type": "execute_result"
    }
   ],
   "source": [
    "### ### DIFFERENCE VARIABLES_CURRENT\n",
    "\n",
    "df['Difference_Current_AAP']=df['MMRCurrentAuctionAveragePrice']\n",
    "df['Difference_Current_ACP']=df['MMRCurrentAuctionCleanPrice']\n",
    "df['Difference_Current_RAP']=df['MMRCurrentRetailAveragePrice']\n",
    "df['Difference_Current_RCP']=df['MMRCurrentRetailCleanPrice']\n",
    "df[['Difference_Current_RCP','MMRCurrentRetailCleanPrice']]"
   ]
  },
  {
   "cell_type": "code",
   "execution_count": 228,
   "metadata": {
    "colab": {},
    "colab_type": "code",
    "id": "e7a3BldEXJhn"
   },
   "outputs": [],
   "source": [
    "### MAX POSSIBLE MARKUP RESULTING FROM SALES_CURRENT\n",
    "\n",
    "df['Markup_Current_AP_max']=df['Difference_Current_AAP']+df['Difference_Current_RAP']\n",
    "df['Markup_Current_CP_max']=df['Difference_Current_ACP']+df['Difference_Current_RCP']"
   ]
  },
  {
   "cell_type": "code",
   "execution_count": 229,
   "metadata": {
    "colab": {
     "base_uri": "https://localhost:8080/",
     "height": 341
    },
    "colab_type": "code",
    "id": "pHFCmaoqSneK",
    "outputId": "41ffcc90-11ae-4e61-abcb-4dbd92fad7ae"
   },
   "outputs": [
    {
     "data": {
      "text/plain": [
       "Index(['RefId', 'IsBadBuy', 'PurchDate', 'Auction', 'VehYear', 'VehicleAge',\n",
       "       'Make', 'Model', 'Trim', 'SubModel', 'Color', 'Transmission',\n",
       "       'WheelTypeID', 'WheelType', 'VehOdo', 'Nationality', 'Size',\n",
       "       'TopThreeAmericanName', 'MMRAcquisitionAuctionAveragePrice',\n",
       "       'MMRAcquisitionAuctionCleanPrice', 'MMRAcquisitionRetailAveragePrice',\n",
       "       'MMRAcquisitonRetailCleanPrice', 'MMRCurrentAuctionAveragePrice',\n",
       "       'MMRCurrentAuctionCleanPrice', 'MMRCurrentRetailAveragePrice',\n",
       "       'MMRCurrentRetailCleanPrice', 'PRIMEUNIT', 'AUCGUART', 'BYRNO',\n",
       "       'VNZIP1', 'VNST', 'VehBCost', 'IsOnlineSale', 'WarrantyCost',\n",
       "       'Difference_Acquisition_AAP', 'Difference_Acquisition_ACP',\n",
       "       'Difference_Acquisition_RAP', 'Difference_Acquisition_RCP',\n",
       "       'Markup_Acquisition_AP_max', 'Markup_Acquisition_CP_max', 'PurchYear',\n",
       "       'Variation_rate_AAP', 'Variation_rate_ACP', 'Variation_rate_RAP',\n",
       "       'Variation_rate_RCP', 'Variation_rate_mean', 'VehBCost_Current',\n",
       "       'Difference_Current_AAP', 'Difference_Current_ACP',\n",
       "       'Difference_Current_RAP', 'Difference_Current_RCP',\n",
       "       'Markup_Current_AP_max', 'Markup_Current_CP_max'],\n",
       "      dtype='object')"
      ]
     },
     "execution_count": 229,
     "metadata": {},
     "output_type": "execute_result"
    }
   ],
   "source": [
    "df.columns"
   ]
  },
  {
   "cell_type": "code",
   "execution_count": 230,
   "metadata": {
    "colab": {},
    "colab_type": "code",
    "id": "Nm78Rfi0V-C6"
   },
   "outputs": [],
   "source": [
    "#df.drop(mmrs, axis='columns', inplace=True)\n",
    "#df.drop(['MMRCurrentAuctionAveragePrice','MMRCurrentAuctionCleanPrice','MMRCurrentRetailAveragePrice','MMRCurrentRetailCleanPrice'], axis='columns',inplace=True)"
   ]
  },
  {
   "cell_type": "code",
   "execution_count": 231,
   "metadata": {
    "colab": {
     "base_uri": "https://localhost:8080/",
     "height": 71
    },
    "colab_type": "code",
    "id": "OkptxggEV-DF",
    "outputId": "c279b6b5-e550-4118-921a-366cbcff729f"
   },
   "outputs": [
    {
     "data": {
      "text/plain": [
       "1    14069\n",
       "0      528\n",
       "Name: Transmission, dtype: int64"
      ]
     },
     "execution_count": 231,
     "metadata": {},
     "output_type": "execute_result"
    }
   ],
   "source": [
    "#### 1='AUTO' e 0='MANUAL'\n",
    "df['Transmission'].replace({'MANUAL':0},inplace=True)\n",
    "df['Transmission'].replace({'AUTO':1},inplace=True)\n",
    "df['Transmission'].value_counts()"
   ]
  },
  {
   "cell_type": "code",
   "execution_count": 232,
   "metadata": {
    "colab": {
     "base_uri": "https://localhost:8080/",
     "height": 71
    },
    "colab_type": "code",
    "id": "AfB1xO-jV-DK",
    "outputId": "ed6ef2c5-2199-44b2-9de3-4c0fefc8a38a"
   },
   "outputs": [
    {
     "data": {
      "text/plain": [
       "1    12228\n",
       "0     2369\n",
       "Name: TopThreeAmericanName, dtype: int64"
      ]
     },
     "execution_count": 232,
     "metadata": {},
     "output_type": "execute_result"
    }
   ],
   "source": [
    "### Top3=1 e OTHER=0\n",
    "df['TopThreeAmericanName'].replace({'CHRYSLER':'American Top3'},inplace=True)\n",
    "df['TopThreeAmericanName'].replace({'FORD':'American Top3'},inplace=True)\n",
    "df['TopThreeAmericanName'].replace({'GM':'American Top3'},inplace=True)\n",
    "df['TopThreeAmericanName'].value_counts()\n",
    "df['TopThreeAmericanName'].replace({'American Top3':1},inplace=True)\n",
    "df['TopThreeAmericanName'].replace({'OTHER':0},inplace=True)\n",
    "df['TopThreeAmericanName'].value_counts()"
   ]
  },
  {
   "cell_type": "code",
   "execution_count": 233,
   "metadata": {},
   "outputs": [
    {
     "data": {
      "text/plain": [
       "1     6142\n",
       "3     1730\n",
       "5     1692\n",
       "0     1441\n",
       "2     1177\n",
       "9      616\n",
       "4      471\n",
       "11     388\n",
       "7      340\n",
       "6      276\n",
       "8      168\n",
       "10     156\n",
       "Name: Size, dtype: int64"
      ]
     },
     "execution_count": 233,
     "metadata": {},
     "output_type": "execute_result"
    }
   ],
   "source": [
    "### Size \n",
    "df['Size'].replace({'COMPACT':0},inplace=True)\n",
    "df['Size'].replace({'MEDIUM':1},inplace=True)\n",
    "df['Size'].replace({'VAN':2},inplace=True)\n",
    "df['Size'].replace({'LARGE':3},inplace=True)\n",
    "df['Size'].replace({'SMALL SUV':4},inplace=True)\n",
    "df['Size'].replace({'MEDIUM SUV':5},inplace=True)\n",
    "df['Size'].replace({'LARGE SUV':6},inplace=True)\n",
    "df['Size'].replace({'CROSSOVER':7},inplace=True)\n",
    "df['Size'].replace({'SMALL TRUCK':8},inplace=True)\n",
    "df['Size'].replace({'LARGE TRUCK':9},inplace=True)\n",
    "df['Size'].replace({'SPORTS':10},inplace=True)\n",
    "df['Size'].replace({'SPECIALTY':11},inplace=True)\n",
    "\n",
    "\n",
    "df['Size'].value_counts()"
   ]
  },
  {
   "cell_type": "code",
   "execution_count": 262,
   "metadata": {
    "colab": {
     "base_uri": "https://localhost:8080/",
     "height": 251
    },
    "colab_type": "code",
    "id": "wy7qgis2J0Vx",
    "outputId": "07a1e416-6764-456f-c40e-49fe094f2a9e"
   },
   "outputs": [],
   "source": [
    "### Trasformazioni variabili numeriche\n",
    "\n",
    "attributes = [col for col in df.columns if col != 'IsBadBuy']\n",
    "y_test = df['IsBadBuy']\n",
    "numerical = ['VehicleAge','Size','VehOdo', 'VehBCost','Markup_Acquisition_AP_max','Markup_Acquisition_CP_max','Markup_Current_AP_max','Markup_Current_CP_max','WarrantyCost']\n",
    "X_test=scaler.fit_transform(df[numerical].values)"
   ]
  },
  {
   "cell_type": "code",
   "execution_count": 299,
   "metadata": {},
   "outputs": [],
   "source": [
    "y_pred = clf.predict(X_test)\n",
    "y_pred_tr = clf.predict(X)"
   ]
  },
  {
   "cell_type": "code",
   "execution_count": 298,
   "metadata": {},
   "outputs": [
    {
     "name": "stdout",
     "output_type": "stream",
     "text": [
      "RefId 0.4200305970750399\n",
      "PurchDate 0.016689629569539965\n",
      "Auction 0.10673668278044843\n",
      "VehYear 0.25977119663066134\n",
      "VehicleAge 0.06207576055296643\n",
      "Make 0.029709149453002154\n",
      "Model 0.032291990432680016\n",
      "Trim 0.035540460488755594\n",
      "SubModel 0.037154533016906355\n"
     ]
    }
   ],
   "source": [
    "for col, imp in zip(attributes, clf.feature_importances_):\n",
    "    print(col, imp)"
   ]
  },
  {
   "cell_type": "code",
   "execution_count": 300,
   "metadata": {},
   "outputs": [],
   "source": [
    "from sklearn.metrics import confusion_matrix\n",
    "from sklearn.metrics import accuracy_score, f1_score, classification_report\n",
    "from sklearn.metrics import roc_curve, auc, roc_auc_score"
   ]
  },
  {
   "cell_type": "code",
   "execution_count": 301,
   "metadata": {},
   "outputs": [
    {
     "name": "stdout",
     "output_type": "stream",
     "text": [
      "Train Accuracy 0.8784811427396979\n",
      "Train F1-score [0.93506256 0.0556369 ]\n",
      "\n",
      "Test Accuracy 0.7991368089333425\n",
      "Test F1-score [0.8859144  0.16084717]\n",
      "              precision    recall  f1-score   support\n",
      "\n",
      "           0       0.88      0.89      0.89     12829\n",
      "           1       0.16      0.16      0.16      1768\n",
      "\n",
      "    accuracy                           0.80     14597\n",
      "   macro avg       0.52      0.52      0.52     14597\n",
      "weighted avg       0.80      0.80      0.80     14597\n",
      "\n"
     ]
    },
    {
     "data": {
      "text/plain": [
       "array([[11384,  1445],\n",
       "       [ 1487,   281]])"
      ]
     },
     "execution_count": 301,
     "metadata": {},
     "output_type": "execute_result"
    }
   ],
   "source": [
    "print('Train Accuracy %s' % accuracy_score(y, y_pred_tr))\n",
    "print('Train F1-score %s' % f1_score(y, y_pred_tr, average=None))\n",
    "print()\n",
    "\n",
    "print('Test Accuracy %s' % accuracy_score(y_test, y_pred))\n",
    "print('Test F1-score %s' % f1_score(y_test, y_pred, average=None))\n",
    "print(classification_report(y_test, y_pred))\n",
    "confusion_matrix(y_test, y_pred)"
   ]
  },
  {
   "cell_type": "code",
   "execution_count": 302,
   "metadata": {},
   "outputs": [
    {
     "name": "stdout",
     "output_type": "stream",
     "text": [
      "0.5231506081209533\n"
     ]
    }
   ],
   "source": [
    "fpr, tpr, _ = roc_curve(y_test, y_pred)\n",
    "roc_auc = auc(fpr, tpr)\n",
    "print(roc_auc)\n",
    "\n",
    "roc_auc = roc_auc_score(y_test, y_pred, average=None)"
   ]
  },
  {
   "cell_type": "code",
   "execution_count": 303,
   "metadata": {},
   "outputs": [
    {
     "data": {
      "image/png": "[encoded data removed]",
      "text/plain": [
       "<Figure size 576x360 with 1 Axes>"
      ]
     },
     "metadata": {
      "needs_background": "light"
     },
     "output_type": "display_data"
    }
   ],
   "source": [
    "plt.figure(figsize=(8, 5))\n",
    "plt.plot(fpr, tpr, label='ROC curve (area = %0.2f)' % (roc_auc))\n",
    "    \n",
    "plt.plot([0, 1], [0, 1], 'k--')\n",
    "plt.xlim([0.0, 1.0])\n",
    "plt.ylim([0.0, 1.05])\n",
    "plt.xlabel('False Positive Rate', fontsize=20)\n",
    "plt.ylabel('True Positive Rate', fontsize=20) \n",
    "plt.tick_params(axis='both', which='major', labelsize=22)\n",
    "plt.legend(loc=\"lower right\", fontsize=14, frameon=False)\n",
    "plt.show()"
   ]
  }
 ],
 "metadata": {
  "kernelspec": {
   "display_name": "Python 3",
   "language": "python",
   "name": "python3"
  },
  "language_info": {
   "codemirror_mode": {
    "name": "ipython",
    "version": 3
   },
   "file_extension": ".py",
   "mimetype": "text/x-python",
   "name": "python",
   "nbconvert_exporter": "python",
   "pygments_lexer": "ipython3",
   "version": "3.7.4"
  }
 },
 "nbformat": 4,
 "nbformat_minor": 4
}
